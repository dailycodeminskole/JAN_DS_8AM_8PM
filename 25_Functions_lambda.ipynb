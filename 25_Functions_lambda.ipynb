{
 "cells": [
  {
   "cell_type": "markdown",
   "id": "e0d4f9b3",
   "metadata": {},
   "source": [
    "# revision"
   ]
  },
  {
   "cell_type": "code",
   "execution_count": null,
   "id": "78119a65",
   "metadata": {},
   "outputs": [],
   "source": []
  },
  {
   "cell_type": "code",
   "execution_count": 47,
   "id": "d53563ba",
   "metadata": {},
   "outputs": [
    {
     "name": "stdout",
     "output_type": "stream",
     "text": [
      "1256.0\n"
     ]
    }
   ],
   "source": [
    "# HW\n",
    "# change the value of 'r' to 20 using global keyword and find the new area using below function\n",
    "r = 10\n",
    "def area():\n",
    "    global r\n",
    "    r = 20\n",
    "    circle = 3.14*r*r\n",
    "    print(circle)\n",
    "    \n",
    "area()\n",
    "\n",
    "# pass multiple arguments in the function and observe the output\n",
    "# function that takes variable lenght of argument  and squares each argument\n",
    "\n",
    "def square(*args):\n",
    "    ans= []\n",
    "    for i in args:\n",
    "        ans.append(i*i)\n",
    "    print(ans)"
   ]
  },
  {
   "cell_type": "markdown",
   "id": "1453595b",
   "metadata": {},
   "source": [
    "# scope of variable"
   ]
  },
  {
   "cell_type": "code",
   "execution_count": 11,
   "id": "d717152a",
   "metadata": {},
   "outputs": [
    {
     "name": "stdout",
     "output_type": "stream",
     "text": [
      "600\n",
      "400\n"
     ]
    }
   ],
   "source": [
    "\n",
    "\n",
    "x = 500 #global\n",
    "\n",
    "def sum():\n",
    "#     x = 300 #local\n",
    "    print(x+100)\n",
    "    \n",
    "sum()\n",
    "\n",
    "def diff():\n",
    "#     x = 900\n",
    "    print(x-100) # x = 500 is global value, x = 600 after ex from sum()\n",
    "diff()"
   ]
  },
  {
   "cell_type": "markdown",
   "id": "0f8794a5",
   "metadata": {},
   "source": [
    "# *args"
   ]
  },
  {
   "cell_type": "code",
   "execution_count": 18,
   "id": "82deb813",
   "metadata": {},
   "outputs": [
    {
     "name": "stdout",
     "output_type": "stream",
     "text": [
      "<class 'tuple'>\n",
      "87\n",
      "<class 'tuple'>\n",
      "99\n"
     ]
    }
   ],
   "source": [
    "list_num = [12,47,87,41,78,47]\n",
    "\n",
    "def find_max(*args):\n",
    "    print(type(args))\n",
    "    max_value = float(0)\n",
    "    for number in args:\n",
    "        if number > max_value:\n",
    "            max_value = number\n",
    "    print(max_value) \n",
    "            \n",
    "find_max(12,4,87)\n",
    "find_max(12,4,87,44,14,78,99,47)"
   ]
  },
  {
   "cell_type": "code",
   "execution_count": null,
   "id": "8686671c",
   "metadata": {},
   "outputs": [],
   "source": []
  },
  {
   "cell_type": "code",
   "execution_count": null,
   "id": "9b1c8efb",
   "metadata": {},
   "outputs": [],
   "source": []
  },
  {
   "cell_type": "code",
   "execution_count": null,
   "id": "5099313f",
   "metadata": {},
   "outputs": [],
   "source": []
  },
  {
   "cell_type": "markdown",
   "id": "2783e071",
   "metadata": {},
   "source": [
    "# lambda Functions"
   ]
  },
  {
   "cell_type": "code",
   "execution_count": 1,
   "id": "2f0fbe08",
   "metadata": {},
   "outputs": [],
   "source": [
    "# A lambda function is a small, anonymous function in Python that can take \n",
    "# any number of arguments, but can only have one expression. \n",
    "# They are often used as a shortcut for simple functions that are only used once, \n",
    "# such as for sorting or filtering data. \n",
    "# Lambda functions are defined using the lambda keyword.\n",
    "# nameless function"
   ]
  },
  {
   "cell_type": "code",
   "execution_count": 19,
   "id": "11f59473",
   "metadata": {},
   "outputs": [
    {
     "name": "stdout",
     "output_type": "stream",
     "text": [
      "300\n"
     ]
    }
   ],
   "source": [
    "def sum(a,b):\n",
    "    print(a+b)\n",
    "sum(100,200)"
   ]
  },
  {
   "cell_type": "code",
   "execution_count": 20,
   "id": "3fcbce3c",
   "metadata": {},
   "outputs": [],
   "source": [
    "# syntax\n",
    "# lambda argument : expression"
   ]
  },
  {
   "cell_type": "code",
   "execution_count": 22,
   "id": "5a588518",
   "metadata": {},
   "outputs": [],
   "source": [
    "ans  = lambda a ,b : a+b #location of object"
   ]
  },
  {
   "cell_type": "code",
   "execution_count": 24,
   "id": "6e12e669",
   "metadata": {},
   "outputs": [
    {
     "name": "stdout",
     "output_type": "stream",
     "text": [
      "300\n"
     ]
    }
   ],
   "source": [
    "print(ans(100,200))"
   ]
  },
  {
   "cell_type": "code",
   "execution_count": 26,
   "id": "fd9b7368",
   "metadata": {},
   "outputs": [
    {
     "name": "stdout",
     "output_type": "stream",
     "text": [
      "300\n"
     ]
    }
   ],
   "source": [
    "print((lambda a ,b : a+b)(100,200))"
   ]
  },
  {
   "cell_type": "code",
   "execution_count": 28,
   "id": "4a485c72",
   "metadata": {},
   "outputs": [
    {
     "name": "stdout",
     "output_type": "stream",
     "text": [
      "Odd number\n",
      "Even Number\n"
     ]
    }
   ],
   "source": [
    "calc = lambda num :\"Even Number\" if num%2 == 0 else \"Odd number\"\n",
    "print(calc(147))\n",
    "print(calc(148))"
   ]
  },
  {
   "cell_type": "code",
   "execution_count": 29,
   "id": "a3208156",
   "metadata": {},
   "outputs": [],
   "source": [
    "# uses of lambda function\n",
    "# map, filter ,reduce"
   ]
  },
  {
   "cell_type": "markdown",
   "id": "dbebcdc0",
   "metadata": {},
   "source": [
    "# map()"
   ]
  },
  {
   "cell_type": "code",
   "execution_count": 31,
   "id": "909d6bb5",
   "metadata": {},
   "outputs": [
    {
     "name": "stdout",
     "output_type": "stream",
     "text": [
      "[24, 94, 174, 82, 156, 94]\n"
     ]
    }
   ],
   "source": [
    "list_num = [12,47,87,41,78,47]\n",
    "def double_num(x):\n",
    "    ans = []\n",
    "    for i in x:\n",
    "        ans.append(2*i)\n",
    "    print(ans)\n",
    "double_num(list_num)\n",
    "    "
   ]
  },
  {
   "cell_type": "code",
   "execution_count": 34,
   "id": "b1cbb54b",
   "metadata": {},
   "outputs": [
    {
     "data": {
      "text/plain": [
       "[24, 94, 174, 82, 156, 94]"
      ]
     },
     "execution_count": 34,
     "metadata": {},
     "output_type": "execute_result"
    }
   ],
   "source": [
    "list(map(lambda x : 2*x ,list_num))"
   ]
  },
  {
   "cell_type": "code",
   "execution_count": 35,
   "id": "e88a9d22",
   "metadata": {},
   "outputs": [
    {
     "data": {
      "text/plain": [
       "[36, 141, 261, 123, 234, 141]"
      ]
     },
     "execution_count": 35,
     "metadata": {},
     "output_type": "execute_result"
    }
   ],
   "source": [
    "list(map(lambda x : 3*x ,list_num))"
   ]
  },
  {
   "cell_type": "markdown",
   "id": "819240f7",
   "metadata": {},
   "source": [
    "# filter()"
   ]
  },
  {
   "cell_type": "code",
   "execution_count": 42,
   "id": "534895d7",
   "metadata": {},
   "outputs": [
    {
     "name": "stdout",
     "output_type": "stream",
     "text": [
      "[12, 78]\n"
     ]
    }
   ],
   "source": [
    "list_score = [12,47,87,41,78,47]\n",
    "def even_num(x):\n",
    "    ans = []\n",
    "    for i in x:\n",
    "        if i%2 == 0:\n",
    "            ans.append(i)\n",
    "    print(ans)\n",
    "        \n",
    "even_num(list_score)              "
   ]
  },
  {
   "cell_type": "code",
   "execution_count": 46,
   "id": "6262a888",
   "metadata": {
    "scrolled": true
   },
   "outputs": [
    {
     "data": {
      "text/plain": [
       "[12, 78]"
      ]
     },
     "execution_count": 46,
     "metadata": {},
     "output_type": "execute_result"
    }
   ],
   "source": [
    "list_score = [12,47,87,41,78,47]\n",
    "def even_ans(s):\n",
    "    if s%2 ==0:\n",
    "        return s\n",
    "    \n",
    "    \n",
    "# filter(function,iterable)\n",
    "list(filter(even_ans,list_score))"
   ]
  },
  {
   "cell_type": "code",
   "execution_count": null,
   "id": "8f262b2c",
   "metadata": {},
   "outputs": [],
   "source": []
  }
 ],
 "metadata": {
  "kernelspec": {
   "display_name": "Python 3 (ipykernel)",
   "language": "python",
   "name": "python3"
  },
  "language_info": {
   "codemirror_mode": {
    "name": "ipython",
    "version": 3
   },
   "file_extension": ".py",
   "mimetype": "text/x-python",
   "name": "python",
   "nbconvert_exporter": "python",
   "pygments_lexer": "ipython3",
   "version": "3.10.5"
  }
 },
 "nbformat": 4,
 "nbformat_minor": 5
}
