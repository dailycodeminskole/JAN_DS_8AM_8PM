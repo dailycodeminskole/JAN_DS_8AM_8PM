{
 "cells": [
  {
   "cell_type": "markdown",
   "id": "c2af822c",
   "metadata": {},
   "source": [
    "# First class functions in Python"
   ]
  },
  {
   "cell_type": "code",
   "execution_count": 1,
   "id": "67ebed95",
   "metadata": {},
   "outputs": [
    {
     "name": "stdout",
     "output_type": "stream",
     "text": [
      "100\n"
     ]
    }
   ],
   "source": [
    "x = 100\n",
    "print(x)"
   ]
  },
  {
   "cell_type": "code",
   "execution_count": 2,
   "id": "bb4ba46f",
   "metadata": {},
   "outputs": [
    {
     "name": "stdout",
     "output_type": "stream",
     "text": [
      "<class 'int'>\n"
     ]
    }
   ],
   "source": [
    "print(type(x))"
   ]
  },
  {
   "cell_type": "code",
   "execution_count": 3,
   "id": "3176dc97",
   "metadata": {},
   "outputs": [
    {
     "name": "stdout",
     "output_type": "stream",
     "text": [
      "<class 'str'>\n"
     ]
    }
   ],
   "source": [
    "name = \"Ramesh\"\n",
    "print(type(name))"
   ]
  },
  {
   "cell_type": "code",
   "execution_count": 4,
   "id": "c1dc618d",
   "metadata": {},
   "outputs": [
    {
     "name": "stdout",
     "output_type": "stream",
     "text": [
      "625\n"
     ]
    }
   ],
   "source": [
    "def sq(x):\n",
    "    print(x*x)\n",
    "sq(25)"
   ]
  },
  {
   "cell_type": "code",
   "execution_count": 5,
   "id": "cc1642c7",
   "metadata": {},
   "outputs": [
    {
     "name": "stdout",
     "output_type": "stream",
     "text": [
      "9\n"
     ]
    }
   ],
   "source": [
    "sq(3)"
   ]
  },
  {
   "cell_type": "code",
   "execution_count": 6,
   "id": "f21b294c",
   "metadata": {},
   "outputs": [],
   "source": [
    "func = sq #should not use () while assigning the function to a variable"
   ]
  },
  {
   "cell_type": "code",
   "execution_count": 7,
   "id": "80d9667c",
   "metadata": {},
   "outputs": [
    {
     "name": "stdout",
     "output_type": "stream",
     "text": [
      "625\n"
     ]
    }
   ],
   "source": [
    "func(25)"
   ]
  },
  {
   "cell_type": "code",
   "execution_count": 8,
   "id": "f6887dc3",
   "metadata": {},
   "outputs": [
    {
     "name": "stdout",
     "output_type": "stream",
     "text": [
      "9\n"
     ]
    }
   ],
   "source": [
    "func(3)"
   ]
  },
  {
   "cell_type": "markdown",
   "id": "9cb4727e",
   "metadata": {},
   "source": [
    "# function as an argument to another function"
   ]
  },
  {
   "cell_type": "code",
   "execution_count": 12,
   "id": "d6771053",
   "metadata": {},
   "outputs": [
    {
     "name": "stdout",
     "output_type": "stream",
     "text": [
      "RAMESH\n",
      "Rahul\n"
     ]
    }
   ],
   "source": [
    "def upper(a):\n",
    "    return a.upper()\n",
    "\n",
    "print(upper(\"ramesh\"))\n",
    "\n",
    "def title(a):\n",
    "    return a.title()\n",
    "print(title(\"rahul\"))"
   ]
  },
  {
   "cell_type": "code",
   "execution_count": 11,
   "id": "a9d73eba",
   "metadata": {},
   "outputs": [
    {
     "name": "stdout",
     "output_type": "stream",
     "text": [
      "RAMESH\n"
     ]
    }
   ],
   "source": [
    "def make_upper(fuc,value):\n",
    "    print(fuc(value))\n",
    "    \n",
    "make_upper(upper,\"ramesh\")"
   ]
  },
  {
   "cell_type": "code",
   "execution_count": 14,
   "id": "01b91f43",
   "metadata": {
    "scrolled": true
   },
   "outputs": [
    {
     "name": "stdout",
     "output_type": "stream",
     "text": [
      "Sameer\n"
     ]
    }
   ],
   "source": [
    "def make_title(a,b):\n",
    "    return a(b)\n",
    "\n",
    "print(make_title(title,\"sameer\"))"
   ]
  },
  {
   "cell_type": "code",
   "execution_count": 15,
   "id": "32abe789",
   "metadata": {},
   "outputs": [
    {
     "name": "stdout",
     "output_type": "stream",
     "text": [
      "POOJA\n",
      "Pooja\n"
     ]
    }
   ],
   "source": [
    "def case_change(func1,func2,c):\n",
    "    print(func1(c))\n",
    "    print(func2(c))\n",
    "\n",
    "case_change(upper,title,\"pooja\")"
   ]
  },
  {
   "cell_type": "code",
   "execution_count": 18,
   "id": "a5e80f21",
   "metadata": {},
   "outputs": [
    {
     "name": "stdout",
     "output_type": "stream",
     "text": [
      "['123', 'gmail.com']\n",
      "['123@gmail', 'com']\n"
     ]
    }
   ],
   "source": [
    "# eg 2 \n",
    "\n",
    "def split(x):\n",
    "    print(x.split(\"@\"))\n",
    "    print(x.split(\".\"))\n",
    "\n",
    "split(\"123@gmail.com\")\n"
   ]
  },
  {
   "cell_type": "code",
   "execution_count": 19,
   "id": "b8b838b2",
   "metadata": {},
   "outputs": [
    {
     "name": "stdout",
     "output_type": "stream",
     "text": [
      "['123', 'gmail.com']\n",
      "['123@gmail', 'com']\n",
      "None\n"
     ]
    }
   ],
   "source": [
    "def check(func, mail):\n",
    "    print(func(mail))\n",
    "    \n",
    "check(split,\"123@gmail.com\")"
   ]
  },
  {
   "cell_type": "markdown",
   "id": "5d2075e0",
   "metadata": {},
   "source": [
    "# doc string"
   ]
  },
  {
   "cell_type": "code",
   "execution_count": 20,
   "id": "c88a4221",
   "metadata": {},
   "outputs": [],
   "source": [
    "def func1(a,b,c):\n",
    "    '''\n",
    "    This is an adder function\n",
    "    Takes three arguments\n",
    "    NOTE : The value of c must not be zero\n",
    "       \n",
    "    '''\n",
    "    return a+b/c\n",
    "\n",
    "\n"
   ]
  },
  {
   "cell_type": "code",
   "execution_count": 25,
   "id": "88aa8367",
   "metadata": {},
   "outputs": [
    {
     "name": "stdout",
     "output_type": "stream",
     "text": [
      "\n",
      "    This is an adder function\n",
      "    Takes three arguments\n",
      "    NOTE : The value of c must not be zero\n",
      "       \n",
      "    \n"
     ]
    }
   ],
   "source": [
    "print(func1.__doc__)"
   ]
  },
  {
   "cell_type": "code",
   "execution_count": 28,
   "id": "23002ed0",
   "metadata": {},
   "outputs": [],
   "source": [
    "def func1(a,b,c):\n",
    "    return a+b/c\n",
    "    '''\n",
    "    This is an adder function\n",
    "    Takes three arguments\n",
    "    NOTE : The value of c must not be zero\n",
    "       \n",
    "    '''\n"
   ]
  },
  {
   "cell_type": "code",
   "execution_count": 29,
   "id": "872263cb",
   "metadata": {},
   "outputs": [
    {
     "name": "stdout",
     "output_type": "stream",
     "text": [
      "None\n"
     ]
    }
   ],
   "source": [
    "print(func1.__doc__)"
   ]
  },
  {
   "cell_type": "code",
   "execution_count": 31,
   "id": "2525e52c",
   "metadata": {},
   "outputs": [],
   "source": [
    "# https://peps.python.org/pep-0008/"
   ]
  },
  {
   "cell_type": "code",
   "execution_count": 32,
   "id": "ad9e3134",
   "metadata": {},
   "outputs": [],
   "source": [
    "# https://peps.python.org/pep-0257/"
   ]
  },
  {
   "cell_type": "code",
   "execution_count": null,
   "id": "5e4c717f",
   "metadata": {},
   "outputs": [],
   "source": []
  }
 ],
 "metadata": {
  "kernelspec": {
   "display_name": "Python 3 (ipykernel)",
   "language": "python",
   "name": "python3"
  },
  "language_info": {
   "codemirror_mode": {
    "name": "ipython",
    "version": 3
   },
   "file_extension": ".py",
   "mimetype": "text/x-python",
   "name": "python",
   "nbconvert_exporter": "python",
   "pygments_lexer": "ipython3",
   "version": "3.10.5"
  }
 },
 "nbformat": 4,
 "nbformat_minor": 5
}
