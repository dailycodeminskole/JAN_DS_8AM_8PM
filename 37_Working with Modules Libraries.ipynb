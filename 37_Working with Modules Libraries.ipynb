{
 "cells": [
  {
   "cell_type": "markdown",
   "id": "95f06b8a",
   "metadata": {},
   "source": [
    "# calling inbuilt modules"
   ]
  },
  {
   "cell_type": "code",
   "execution_count": 1,
   "id": "908a8586",
   "metadata": {},
   "outputs": [],
   "source": [
    "import os"
   ]
  },
  {
   "cell_type": "code",
   "execution_count": 2,
   "id": "81ab4075",
   "metadata": {},
   "outputs": [
    {
     "data": {
      "text/plain": [
       "'C:\\\\Users\\\\RAHUL\\\\Documents\\\\OnePython\\\\10. JAN_DS_9.30PM\\\\JAN_DS_8AM_8PM'"
      ]
     },
     "execution_count": 2,
     "metadata": {},
     "output_type": "execute_result"
    }
   ],
   "source": [
    "os.getcwd()"
   ]
  },
  {
   "cell_type": "code",
   "execution_count": 3,
   "id": "b6b81aae",
   "metadata": {},
   "outputs": [
    {
     "data": {
      "text/plain": [
       "['.ipynb_checkpoints',\n",
       " '01_CourseIntro.py',\n",
       " '02_Variables.py',\n",
       " '03_Strings_1.py',\n",
       " '04_Strings_2.py',\n",
       " '05_Strings_3.py',\n",
       " '06_String_Methods.py',\n",
       " '07_Lists_01.py',\n",
       " '08_Lists_02.py',\n",
       " '09_Tuples.py',\n",
       " '10_Conditional_01.py',\n",
       " '11_IF_ELSE.py',\n",
       " '12_ELIF.py',\n",
       " '13_FOR_LOOP.py',\n",
       " '14_FOR_LOOP2.py',\n",
       " '15_WHILE.py',\n",
       " '16_WHILE_SETS.py',\n",
       " '17_WHILE_METHOSD.py',\n",
       " '18_SET_OPERATIONS_DICT.py',\n",
       " '19_DICTIONARY.py',\n",
       " '20_DICTIONARY_METHODS.py',\n",
       " '21_LIST_COMPREHENSION.py',\n",
       " '22_Functions_Basics.ipynb',\n",
       " '23_Functions_Types.ipynb',\n",
       " '24_Functions_scope.ipynb',\n",
       " '25_Functions_lambda.ipynb',\n",
       " '26_Functions_Misc.ipynb',\n",
       " '27_EH.py',\n",
       " '27_EXCEPTION HANDLING.ipynb',\n",
       " '28_CUSTOM_EXCEPTIONS.ipynb',\n",
       " '29_OS_FileHandling.ipynb',\n",
       " '30_OOP_Intro.ipynb',\n",
       " '31_OOP_Attributes.ipynb',\n",
       " '32_OOP_Methods.ipynb',\n",
       " '33_OOP_INHERITANCE.ipynb',\n",
       " '34_OOP_Encapsulation.ipynb',\n",
       " '35_OOP_Encap_Polymorphism.ipynb',\n",
       " '36_OOP_Doubts.ipynb',\n",
       " 'calc1.py',\n",
       " 'd1.txt',\n",
       " 'D3',\n",
       " 'tempCodeRunnerFile.py',\n",
       " 'Working with Modules Libraries.ipynb',\n",
       " '__pycache__']"
      ]
     },
     "execution_count": 3,
     "metadata": {},
     "output_type": "execute_result"
    }
   ],
   "source": [
    "os.listdir()"
   ]
  },
  {
   "cell_type": "markdown",
   "id": "51a7d9fc",
   "metadata": {},
   "source": [
    "# calling custom module"
   ]
  },
  {
   "cell_type": "code",
   "execution_count": 4,
   "id": "c58caef5",
   "metadata": {},
   "outputs": [
    {
     "ename": "ModuleNotFoundError",
     "evalue": "No module named 'srilanka'",
     "output_type": "error",
     "traceback": [
      "\u001b[1;31m---------------------------------------------------------------------------\u001b[0m",
      "\u001b[1;31mModuleNotFoundError\u001b[0m                       Traceback (most recent call last)",
      "Input \u001b[1;32mIn [4]\u001b[0m, in \u001b[0;36m<cell line: 3>\u001b[1;34m()\u001b[0m\n\u001b[0;32m      1\u001b[0m \u001b[38;5;66;03m# if module is not present in the package/folder , it will give error  : ModuleNotFoundError\u001b[39;00m\n\u001b[0;32m      2\u001b[0m \u001b[38;5;66;03m# eg. \u001b[39;00m\n\u001b[1;32m----> 3\u001b[0m \u001b[38;5;28;01mimport\u001b[39;00m \u001b[38;5;21;01msrilanka\u001b[39;00m\n",
      "\u001b[1;31mModuleNotFoundError\u001b[0m: No module named 'srilanka'"
     ]
    }
   ],
   "source": [
    "# if module is not present in the package/folder , it will give error  : ModuleNotFoundError\n",
    "# eg. \n",
    "import srilanka"
   ]
  },
  {
   "cell_type": "code",
   "execution_count": null,
   "id": "10814513",
   "metadata": {},
   "outputs": [],
   "source": [
    "# calling a module available in the same folde\n",
    "# the module name should by .py only for proper importing else it eill give error\n",
    "# also DO NOT include the .py extension while importing the module , simply import the name"
   ]
  },
  {
   "cell_type": "code",
   "execution_count": null,
   "id": "770d5d60",
   "metadata": {},
   "outputs": [],
   "source": []
  },
  {
   "cell_type": "code",
   "execution_count": 5,
   "id": "4c2e49d3",
   "metadata": {},
   "outputs": [
    {
     "ename": "ModuleNotFoundError",
     "evalue": "No module named 'calc'",
     "output_type": "error",
     "traceback": [
      "\u001b[1;31m---------------------------------------------------------------------------\u001b[0m",
      "\u001b[1;31mModuleNotFoundError\u001b[0m                       Traceback (most recent call last)",
      "Input \u001b[1;32mIn [5]\u001b[0m, in \u001b[0;36m<cell line: 1>\u001b[1;34m()\u001b[0m\n\u001b[1;32m----> 1\u001b[0m \u001b[38;5;28;01mimport\u001b[39;00m \u001b[38;5;21;01mcalc\u001b[39;00m\n",
      "\u001b[1;31mModuleNotFoundError\u001b[0m: No module named 'calc'"
     ]
    }
   ],
   "source": [
    "import calc"
   ]
  },
  {
   "cell_type": "code",
   "execution_count": 6,
   "id": "cc53ff5b",
   "metadata": {},
   "outputs": [
    {
     "ename": "NameError",
     "evalue": "name 'calc' is not defined",
     "output_type": "error",
     "traceback": [
      "\u001b[1;31m---------------------------------------------------------------------------\u001b[0m",
      "\u001b[1;31mNameError\u001b[0m                                 Traceback (most recent call last)",
      "Input \u001b[1;32mIn [6]\u001b[0m, in \u001b[0;36m<cell line: 1>\u001b[1;34m()\u001b[0m\n\u001b[1;32m----> 1\u001b[0m \u001b[43mcalc\u001b[49m\u001b[38;5;241m.\u001b[39msum1(\u001b[38;5;241m100\u001b[39m,\u001b[38;5;241m200\u001b[39m)\n",
      "\u001b[1;31mNameError\u001b[0m: name 'calc' is not defined"
     ]
    }
   ],
   "source": [
    "calc.sum1(100,200)"
   ]
  },
  {
   "cell_type": "code",
   "execution_count": null,
   "id": "5fb8a75b",
   "metadata": {},
   "outputs": [],
   "source": [
    "calc.mul1(23,55)"
   ]
  },
  {
   "cell_type": "markdown",
   "id": "5a871eb2",
   "metadata": {},
   "source": [
    "# using a short name , alias"
   ]
  },
  {
   "cell_type": "code",
   "execution_count": null,
   "id": "97c15e2b",
   "metadata": {},
   "outputs": [],
   "source": [
    "import calculatorByMinskolePune #the name is too long"
   ]
  },
  {
   "cell_type": "code",
   "execution_count": null,
   "id": "431a8029",
   "metadata": {},
   "outputs": [],
   "source": [
    "calculatorByMinskolePune.sum1(100,200)"
   ]
  },
  {
   "cell_type": "code",
   "execution_count": null,
   "id": "06aa95b4",
   "metadata": {},
   "outputs": [],
   "source": [
    "# using a short name , alias\n",
    "# for shortening the name"
   ]
  },
  {
   "cell_type": "code",
   "execution_count": null,
   "id": "6d6e9f82",
   "metadata": {},
   "outputs": [],
   "source": [
    "import calculatorByMinskolePune as cmp"
   ]
  },
  {
   "cell_type": "code",
   "execution_count": null,
   "id": "6bf5ffbe",
   "metadata": {},
   "outputs": [],
   "source": [
    "cmp.mul1(111,78)"
   ]
  },
  {
   "cell_type": "code",
   "execution_count": null,
   "id": "b673d35c",
   "metadata": {},
   "outputs": [],
   "source": [
    "import numpy as np"
   ]
  },
  {
   "cell_type": "code",
   "execution_count": null,
   "id": "96bde3fc",
   "metadata": {},
   "outputs": [],
   "source": [
    "import pandas as pd"
   ]
  },
  {
   "cell_type": "markdown",
   "id": "954a76e1",
   "metadata": {},
   "source": [
    "# importing  limited functions from a library"
   ]
  },
  {
   "cell_type": "code",
   "execution_count": 7,
   "id": "ef09fc7b",
   "metadata": {},
   "outputs": [
    {
     "name": "stdout",
     "output_type": "stream",
     "text": [
      "Welcome to my custom calc Module\n"
     ]
    }
   ],
   "source": [
    "from calc1 import mul1"
   ]
  },
  {
   "cell_type": "code",
   "execution_count": 8,
   "id": "257b40dd",
   "metadata": {},
   "outputs": [
    {
     "ename": "NameError",
     "evalue": "name 'calc1' is not defined",
     "output_type": "error",
     "traceback": [
      "\u001b[1;31m---------------------------------------------------------------------------\u001b[0m",
      "\u001b[1;31mNameError\u001b[0m                                 Traceback (most recent call last)",
      "Input \u001b[1;32mIn [8]\u001b[0m, in \u001b[0;36m<cell line: 1>\u001b[1;34m()\u001b[0m\n\u001b[1;32m----> 1\u001b[0m \u001b[43mcalc1\u001b[49m\u001b[38;5;241m.\u001b[39mmul1(\u001b[38;5;241m44\u001b[39m,\u001b[38;5;241m55\u001b[39m)\n",
      "\u001b[1;31mNameError\u001b[0m: name 'calc1' is not defined"
     ]
    }
   ],
   "source": [
    "calc1.mul1(44,55)"
   ]
  },
  {
   "cell_type": "code",
   "execution_count": null,
   "id": "c0783808",
   "metadata": {},
   "outputs": [],
   "source": []
  },
  {
   "cell_type": "markdown",
   "id": "d696edae",
   "metadata": {},
   "source": [
    "# random module"
   ]
  },
  {
   "cell_type": "code",
   "execution_count": 9,
   "id": "a612d606",
   "metadata": {},
   "outputs": [],
   "source": [
    "import random"
   ]
  },
  {
   "cell_type": "code",
   "execution_count": 18,
   "id": "5d784278",
   "metadata": {},
   "outputs": [
    {
     "data": {
      "text/plain": [
       "0.8172686799397454"
      ]
     },
     "execution_count": 18,
     "metadata": {},
     "output_type": "execute_result"
    }
   ],
   "source": [
    "# between 0-1 not including 1\n",
    "random.random()"
   ]
  },
  {
   "cell_type": "code",
   "execution_count": 38,
   "id": "bf4e7947",
   "metadata": {},
   "outputs": [
    {
     "data": {
      "text/plain": [
       "3.044550307015291"
      ]
     },
     "execution_count": 38,
     "metadata": {},
     "output_type": "execute_result"
    }
   ],
   "source": [
    "# floating number\n",
    "random.uniform(1,10)"
   ]
  },
  {
   "cell_type": "code",
   "execution_count": 45,
   "id": "9c1f9698",
   "metadata": {},
   "outputs": [
    {
     "data": {
      "text/plain": [
       "2"
      ]
     },
     "execution_count": 45,
     "metadata": {},
     "output_type": "execute_result"
    }
   ],
   "source": [
    "# random integers\n",
    "# bounday values are included\n",
    "random.randint(1,10)"
   ]
  },
  {
   "cell_type": "code",
   "execution_count": 53,
   "id": "8c62d8fe",
   "metadata": {},
   "outputs": [
    {
     "data": {
      "text/plain": [
       "'a'"
      ]
     },
     "execution_count": 53,
     "metadata": {},
     "output_type": "execute_result"
    }
   ],
   "source": [
    "# from a given list\n",
    "list = ['a','e','i','o','u']\n",
    "random.choice(list)"
   ]
  },
  {
   "cell_type": "code",
   "execution_count": 82,
   "id": "00d9cf54",
   "metadata": {},
   "outputs": [
    {
     "data": {
      "text/plain": [
       "['i', 'i']"
      ]
     },
     "execution_count": 82,
     "metadata": {},
     "output_type": "execute_result"
    }
   ],
   "source": [
    "# from a given list , o/p can be duplicate values\n",
    "list = ['a','e','i','o','u']\n",
    "random.choices(list,k=2)"
   ]
  },
  {
   "cell_type": "code",
   "execution_count": 96,
   "id": "6c0ad8d8",
   "metadata": {},
   "outputs": [
    {
     "data": {
      "text/plain": [
       "['e', 'u']"
      ]
     },
     "execution_count": 96,
     "metadata": {},
     "output_type": "execute_result"
    }
   ],
   "source": [
    "# from a given list , unique values\n",
    "list = ['a','e','i','o','u']\n",
    "random.sample(list, k=2)"
   ]
  },
  {
   "cell_type": "code",
   "execution_count": null,
   "id": "cbaeaa0a",
   "metadata": {},
   "outputs": [],
   "source": []
  },
  {
   "cell_type": "code",
   "execution_count": null,
   "id": "fb1af3a9",
   "metadata": {},
   "outputs": [],
   "source": [
    "from adder import mul1 ,sum1"
   ]
  },
  {
   "cell_type": "code",
   "execution_count": null,
   "id": "5f75827c",
   "metadata": {},
   "outputs": [],
   "source": [
    "mul1(100,22)"
   ]
  },
  {
   "cell_type": "code",
   "execution_count": null,
   "id": "c11a124f",
   "metadata": {},
   "outputs": [],
   "source": [
    "sum1(22,55)"
   ]
  },
  {
   "cell_type": "code",
   "execution_count": null,
   "id": "ccfdfa86",
   "metadata": {},
   "outputs": [],
   "source": [
    "from adder import * #this is convenient but not recommended"
   ]
  },
  {
   "cell_type": "code",
   "execution_count": null,
   "id": "c8c1dbc8",
   "metadata": {},
   "outputs": [],
   "source": [
    "sum1(22,55)"
   ]
  },
  {
   "cell_type": "code",
   "execution_count": null,
   "id": "9bf9a0ad",
   "metadata": {},
   "outputs": [],
   "source": []
  },
  {
   "cell_type": "markdown",
   "id": "0e485b92",
   "metadata": {},
   "source": [
    "# working of the IMPORT"
   ]
  },
  {
   "cell_type": "code",
   "execution_count": 97,
   "id": "9aa99fe2",
   "metadata": {},
   "outputs": [],
   "source": [
    "import sys"
   ]
  },
  {
   "cell_type": "code",
   "execution_count": 98,
   "id": "43269974",
   "metadata": {},
   "outputs": [
    {
     "data": {
      "text/plain": [
       "['C:\\\\Users\\\\RAHUL\\\\Documents\\\\OnePython\\\\10. JAN_DS_9.30PM\\\\JAN_DS_8AM_8PM',\n",
       " 'C:\\\\Python\\\\Python310\\\\python310.zip',\n",
       " 'C:\\\\Python\\\\Python310\\\\DLLs',\n",
       " 'C:\\\\Python\\\\Python310\\\\lib',\n",
       " 'C:\\\\Python\\\\Python310',\n",
       " '',\n",
       " 'C:\\\\Users\\\\RAHUL\\\\AppData\\\\Roaming\\\\Python\\\\Python310\\\\site-packages',\n",
       " 'C:\\\\Python\\\\Python310\\\\lib\\\\site-packages',\n",
       " 'C:\\\\Python\\\\Python310\\\\lib\\\\site-packages\\\\win32',\n",
       " 'C:\\\\Python\\\\Python310\\\\lib\\\\site-packages\\\\win32\\\\lib',\n",
       " 'C:\\\\Python\\\\Python310\\\\lib\\\\site-packages\\\\Pythonwin']"
      ]
     },
     "execution_count": 98,
     "metadata": {},
     "output_type": "execute_result"
    }
   ],
   "source": [
    "sys.path"
   ]
  },
  {
   "cell_type": "code",
   "execution_count": null,
   "id": "258e85c4",
   "metadata": {},
   "outputs": [],
   "source": []
  }
 ],
 "metadata": {
  "kernelspec": {
   "display_name": "Python 3 (ipykernel)",
   "language": "python",
   "name": "python3"
  },
  "language_info": {
   "codemirror_mode": {
    "name": "ipython",
    "version": 3
   },
   "file_extension": ".py",
   "mimetype": "text/x-python",
   "name": "python",
   "nbconvert_exporter": "python",
   "pygments_lexer": "ipython3",
   "version": "3.10.5"
  }
 },
 "nbformat": 4,
 "nbformat_minor": 5
}
