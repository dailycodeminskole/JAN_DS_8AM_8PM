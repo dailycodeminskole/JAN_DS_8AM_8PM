{
 "cells": [
  {
   "cell_type": "markdown",
   "id": "8ad8def3",
   "metadata": {},
   "source": [
    "# OS Module"
   ]
  },
  {
   "cell_type": "code",
   "execution_count": null,
   "id": "e315bdf0",
   "metadata": {},
   "outputs": [],
   "source": [
    "# imporont OS module for working with directories/folders"
   ]
  },
  {
   "cell_type": "code",
   "execution_count": 2,
   "id": "30eaa0d6",
   "metadata": {},
   "outputs": [],
   "source": [
    "import os"
   ]
  },
  {
   "cell_type": "code",
   "execution_count": 75,
   "id": "1a47ed6a",
   "metadata": {},
   "outputs": [
    {
     "name": "stdout",
     "output_type": "stream",
     "text": [
      "Hello World\n"
     ]
    }
   ],
   "source": [
    "# print is inbuilt but we dont have to explicitly import\n",
    "# but we have have to import 'os'\n",
    "print(\"Hello World\")"
   ]
  },
  {
   "cell_type": "code",
   "execution_count": 25,
   "id": "05c79d71",
   "metadata": {},
   "outputs": [],
   "source": [
    "# getting help\n",
    "# help(os)\n",
    "# dir(os)"
   ]
  },
  {
   "cell_type": "code",
   "execution_count": 76,
   "id": "8d0fca79",
   "metadata": {},
   "outputs": [
    {
     "data": {
      "text/plain": [
       "'F:\\\\Employees\\\\Emp1'"
      ]
     },
     "execution_count": 76,
     "metadata": {},
     "output_type": "execute_result"
    }
   ],
   "source": [
    "# checking the current location\n",
    "# current working directory of exisiting dir\n",
    "\n",
    "os.getcwd()"
   ]
  },
  {
   "cell_type": "code",
   "execution_count": 8,
   "id": "83190c1b",
   "metadata": {},
   "outputs": [],
   "source": [
    "# changin the directory\n",
    "os.chdir(r'F:\\\\')"
   ]
  },
  {
   "cell_type": "code",
   "execution_count": 9,
   "id": "2e5c56e2",
   "metadata": {},
   "outputs": [
    {
     "data": {
      "text/plain": [
       "'F:\\\\'"
      ]
     },
     "execution_count": 9,
     "metadata": {},
     "output_type": "execute_result"
    }
   ],
   "source": [
    "os.getcwd()"
   ]
  },
  {
   "cell_type": "code",
   "execution_count": 77,
   "id": "c6a85984",
   "metadata": {},
   "outputs": [],
   "source": [
    "# making a new directory\n",
    "os.mkdir(\"Employees\")"
   ]
  },
  {
   "cell_type": "code",
   "execution_count": 11,
   "id": "f972009a",
   "metadata": {},
   "outputs": [],
   "source": [
    "# changin the dir to required one\n",
    "os.chdir('Employees')"
   ]
  },
  {
   "cell_type": "code",
   "execution_count": 12,
   "id": "cde24cae",
   "metadata": {},
   "outputs": [
    {
     "data": {
      "text/plain": [
       "'F:\\\\Employees'"
      ]
     },
     "execution_count": 12,
     "metadata": {},
     "output_type": "execute_result"
    }
   ],
   "source": [
    "os.getcwd()"
   ]
  },
  {
   "cell_type": "code",
   "execution_count": 13,
   "id": "b9eef7ec",
   "metadata": {},
   "outputs": [],
   "source": [
    "os.mkdir(\"Emp1\")"
   ]
  },
  {
   "cell_type": "code",
   "execution_count": 14,
   "id": "55dd4714",
   "metadata": {},
   "outputs": [],
   "source": [
    "os.mkdir(\"Emp2\")"
   ]
  },
  {
   "cell_type": "code",
   "execution_count": 15,
   "id": "a9ab6a37",
   "metadata": {},
   "outputs": [],
   "source": [
    "os.mkdir(\"Emp3\")"
   ]
  },
  {
   "cell_type": "code",
   "execution_count": 16,
   "id": "b8ffce9d",
   "metadata": {},
   "outputs": [],
   "source": [
    "# deleting a dir\n",
    "\n",
    "os.rmdir('Emp1')"
   ]
  },
  {
   "cell_type": "code",
   "execution_count": 17,
   "id": "eea4d122",
   "metadata": {},
   "outputs": [],
   "source": [
    "os.rmdir('Emp2')"
   ]
  },
  {
   "cell_type": "code",
   "execution_count": 18,
   "id": "9c3d0136",
   "metadata": {},
   "outputs": [],
   "source": [
    "os.rmdir('Emp3')"
   ]
  },
  {
   "cell_type": "code",
   "execution_count": 21,
   "id": "70d40b46",
   "metadata": {},
   "outputs": [],
   "source": [
    "# creating dir using for loop\n",
    "\n",
    "for i in range(1,4):\n",
    "    os.mkdir(\"Emp{}\".format(i))"
   ]
  },
  {
   "cell_type": "code",
   "execution_count": 22,
   "id": "299e95d6",
   "metadata": {},
   "outputs": [
    {
     "data": {
      "text/plain": [
       "['Emp1', 'Emp2', 'Emp3']"
      ]
     },
     "execution_count": 22,
     "metadata": {},
     "output_type": "execute_result"
    }
   ],
   "source": [
    "# listing the directories\n",
    "\n",
    "os.listdir()\n"
   ]
  },
  {
   "cell_type": "code",
   "execution_count": null,
   "id": "fd6bd475",
   "metadata": {},
   "outputs": [],
   "source": []
  },
  {
   "cell_type": "code",
   "execution_count": 26,
   "id": "b665428f",
   "metadata": {
    "scrolled": false
   },
   "outputs": [
    {
     "data": {
      "text/plain": [
       "'F:\\\\Employees'"
      ]
     },
     "execution_count": 26,
     "metadata": {},
     "output_type": "execute_result"
    }
   ],
   "source": [
    "os.getcwd()"
   ]
  },
  {
   "cell_type": "code",
   "execution_count": 27,
   "id": "051c78c6",
   "metadata": {},
   "outputs": [],
   "source": [
    "os.chdir('Emp1')"
   ]
  },
  {
   "cell_type": "code",
   "execution_count": 28,
   "id": "f700e803",
   "metadata": {},
   "outputs": [
    {
     "data": {
      "text/plain": [
       "'F:\\\\Employees\\\\Emp1'"
      ]
     },
     "execution_count": 28,
     "metadata": {},
     "output_type": "execute_result"
    }
   ],
   "source": [
    "os.getcwd()"
   ]
  },
  {
   "cell_type": "markdown",
   "id": "55d61c45",
   "metadata": {},
   "source": [
    "# File handling"
   ]
  },
  {
   "cell_type": "code",
   "execution_count": 40,
   "id": "3d8d759b",
   "metadata": {},
   "outputs": [
    {
     "name": "stdout",
     "output_type": "stream",
     "text": [
      "Month 1  :  10766\n",
      "Month 2  :  10790\n",
      "Month 3  :  10\n"
     ]
    }
   ],
   "source": [
    "# using open()\n",
    "# can be used without importing\n",
    "f = open('SalEmp1.txt','r')\n",
    "# f.read()\n",
    "print(f.read(50),end='\\n')\n"
   ]
  },
  {
   "cell_type": "code",
   "execution_count": 38,
   "id": "2c9aced4",
   "metadata": {},
   "outputs": [
    {
     "data": {
      "text/plain": [
       "'Month 4  :  10639\\n'"
      ]
     },
     "execution_count": 38,
     "metadata": {},
     "output_type": "execute_result"
    }
   ],
   "source": [
    "# readline() will read the next line in each execution\n",
    "# one line at a time\n",
    "f = open('SalEmp1.txt','r')\n",
    "f.readline()\n",
    "f.readline()\n",
    "f.readline()\n",
    "f.readline()"
   ]
  },
  {
   "cell_type": "code",
   "execution_count": 70,
   "id": "c113c770",
   "metadata": {},
   "outputs": [
    {
     "data": {
      "text/plain": [
       "'Month 4  :  10639\\n'"
      ]
     },
     "execution_count": 70,
     "metadata": {},
     "output_type": "execute_result"
    }
   ],
   "source": [
    "# readlines will convert each line into a list of lines\n",
    "f = open('SalEmp1.txt','r')\n",
    "# f.readlines()\n",
    "f.readlines()[3] #accessing the 4th line"
   ]
  },
  {
   "cell_type": "code",
   "execution_count": 72,
   "id": "ed088b86",
   "metadata": {},
   "outputs": [],
   "source": [
    "for i in f.readlines():\n",
    "    print(i)"
   ]
  },
  {
   "cell_type": "code",
   "execution_count": 51,
   "id": "d289aaa2",
   "metadata": {},
   "outputs": [
    {
     "name": "stdout",
     "output_type": "stream",
     "text": [
      "Month 1  :  10766\n",
      "Month 2  :  10790\n",
      "Month 3  :  10798\n",
      "Month 4  :  10639\n",
      "Month 5  :  10388\n",
      "Month 6  :  11000\n",
      "Month 7  :  11570\n",
      "Month 8  :  10517\n",
      "Month 9  :  10886\n",
      "Month 10  :  11379\n",
      "\n"
     ]
    }
   ],
   "source": [
    "f = open('SalEmp1.txt') #'r' read mode is default mode\n",
    "# f.read()\n",
    "print(f.read(),end='\\n')"
   ]
  },
  {
   "cell_type": "code",
   "execution_count": 63,
   "id": "ca369321",
   "metadata": {},
   "outputs": [],
   "source": [
    "# writing a file\n",
    "# 'w' if for overwriting the file\n",
    "f = open('SalEmp1.txt','w')\n",
    "f.write(\"Month 15  :  11000\")\n",
    "f.close()"
   ]
  },
  {
   "cell_type": "code",
   "execution_count": 58,
   "id": "8ec3acf4",
   "metadata": {},
   "outputs": [
    {
     "data": {
      "text/plain": [
       "'Month 12  :  11000'"
      ]
     },
     "execution_count": 58,
     "metadata": {},
     "output_type": "execute_result"
    }
   ],
   "source": [
    "f = open('SalEmp1.txt')\n",
    "f.read()"
   ]
  },
  {
   "cell_type": "code",
   "execution_count": 65,
   "id": "64ade6c4",
   "metadata": {},
   "outputs": [],
   "source": [
    "# appending  a file\n",
    "# 'a' for adding lines at the end of the file\n",
    "f = open('SalEmp1.txt','a')\n",
    "f.write(\"Month 12  :  11000\")\n",
    "f.close()"
   ]
  },
  {
   "cell_type": "code",
   "execution_count": 67,
   "id": "d37d4743",
   "metadata": {},
   "outputs": [
    {
     "data": {
      "text/plain": [
       "'#################################################\\n#  19.11.2022 04.00PM\\n#################################################\\n#  TOPICS TO BE COVERED\\n# 👉 OOP IN PYTHON\\n#################################################\\n# OOP'"
      ]
     },
     "execution_count": 67,
     "metadata": {},
     "output_type": "execute_result"
    }
   ],
   "source": [
    "# encoding parameter in open()\n",
    "f = open('data.txt','r',encoding='UTF-8')\n",
    "f.read()"
   ]
  },
  {
   "cell_type": "code",
   "execution_count": 73,
   "id": "0cd566c9",
   "metadata": {},
   "outputs": [
    {
     "name": "stdout",
     "output_type": "stream",
     "text": [
      "Month 13  :  11000\n",
      "\n",
      "Month 2  :  10790\n",
      "\n",
      "Month 3  :  10798\n",
      "\n",
      "Month 4  :  10639\n",
      "\n",
      "Month 5  :  10388\n",
      "\n",
      "Month 6  :  11000\n",
      "\n",
      "Month 7  :  11570\n",
      "\n",
      "Month 8  :  10517\n",
      "\n",
      "Month 9  :  10886\n",
      "\n",
      "Month 10  :  11379\n",
      "\n",
      "Month 11  :  11000\n",
      "\n",
      "Month 12  :  11000\n"
     ]
    }
   ],
   "source": [
    "f = open('SalEmp1.txt')\n",
    "for i in f.readlines():\n",
    "    print(i)"
   ]
  },
  {
   "cell_type": "code",
   "execution_count": null,
   "id": "2b30c2bc",
   "metadata": {},
   "outputs": [],
   "source": []
  }
 ],
 "metadata": {
  "kernelspec": {
   "display_name": "Python 3 (ipykernel)",
   "language": "python",
   "name": "python3"
  },
  "language_info": {
   "codemirror_mode": {
    "name": "ipython",
    "version": 3
   },
   "file_extension": ".py",
   "mimetype": "text/x-python",
   "name": "python",
   "nbconvert_exporter": "python",
   "pygments_lexer": "ipython3",
   "version": "3.10.5"
  }
 },
 "nbformat": 4,
 "nbformat_minor": 5
}
