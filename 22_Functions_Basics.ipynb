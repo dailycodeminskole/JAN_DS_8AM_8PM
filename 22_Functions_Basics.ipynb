{
 "cells": [
  {
   "cell_type": "code",
   "execution_count": 1,
   "id": "db3e8e72",
   "metadata": {},
   "outputs": [],
   "source": [
    "# why do we need a function"
   ]
  },
  {
   "cell_type": "code",
   "execution_count": 2,
   "id": "a0381e48",
   "metadata": {
    "scrolled": true
   },
   "outputs": [
    {
     "name": "stdout",
     "output_type": "stream",
     "text": [
      "300\n"
     ]
    }
   ],
   "source": [
    "a = 100\n",
    "b = 200\n",
    "print(a+b)"
   ]
  },
  {
   "cell_type": "code",
   "execution_count": 3,
   "id": "ca41dc4b",
   "metadata": {},
   "outputs": [
    {
     "name": "stdout",
     "output_type": "stream",
     "text": [
      "700\n"
     ]
    }
   ],
   "source": [
    "c = 200\n",
    "d = 500\n",
    "print(c+d)"
   ]
  },
  {
   "cell_type": "code",
   "execution_count": 4,
   "id": "b09575d7",
   "metadata": {},
   "outputs": [],
   "source": [
    "# DRY\n",
    "# Do not Repeat Yourself"
   ]
  },
  {
   "cell_type": "markdown",
   "id": "382de694",
   "metadata": {},
   "source": [
    "# Types of functions"
   ]
  },
  {
   "cell_type": "code",
   "execution_count": 5,
   "id": "5cf444e4",
   "metadata": {},
   "outputs": [
    {
     "name": "stdout",
     "output_type": "stream",
     "text": [
      "hello World\n",
      "5\n",
      "<class 'str'>\n",
      "True\n",
      "False\n"
     ]
    }
   ],
   "source": [
    "# Types of functions\n",
    "# inbuild functions\n",
    "# https://docs.python.org/3.10/library/functions.html\n",
    "\n",
    "\n",
    "print(\"hello World\")\n",
    "print(len(\"12345\"))\n",
    "print(type(\"12345\"))\n",
    "print(bool(\"12345\"))\n",
    "print(bool(0))"
   ]
  },
  {
   "cell_type": "markdown",
   "id": "0926917d",
   "metadata": {},
   "source": [
    "# custom / user defined"
   ]
  },
  {
   "cell_type": "code",
   "execution_count": 6,
   "id": "dd45f6b0",
   "metadata": {},
   "outputs": [
    {
     "name": "stdout",
     "output_type": "stream",
     "text": [
      "*************\n"
     ]
    }
   ],
   "source": [
    "# how to define a functions\n",
    "\n",
    "\n",
    "# defined  a fun\n",
    "def star():\n",
    "    print(\"*************\")\n",
    "    \n",
    "# calling a function\n",
    "star()"
   ]
  },
  {
   "cell_type": "code",
   "execution_count": 7,
   "id": "09f501f6",
   "metadata": {},
   "outputs": [
    {
     "name": "stdout",
     "output_type": "stream",
     "text": [
      "*************\n"
     ]
    }
   ],
   "source": [
    "star()"
   ]
  },
  {
   "cell_type": "code",
   "execution_count": 8,
   "id": "632938b8",
   "metadata": {},
   "outputs": [
    {
     "name": "stdout",
     "output_type": "stream",
     "text": [
      "*************\n"
     ]
    }
   ],
   "source": [
    "star()"
   ]
  },
  {
   "cell_type": "code",
   "execution_count": 9,
   "id": "c6450886",
   "metadata": {},
   "outputs": [],
   "source": [
    "# we can call a function any number of times"
   ]
  },
  {
   "cell_type": "code",
   "execution_count": 10,
   "id": "c030aa11",
   "metadata": {},
   "outputs": [
    {
     "name": "stdout",
     "output_type": "stream",
     "text": [
      "300\n"
     ]
    }
   ],
   "source": [
    "# defing an adder\n",
    "# add two numbers\n",
    "\n",
    "def adder(a,b):\n",
    "    print(a+b)\n",
    "    \n",
    "    \n",
    "adder(100,200)  "
   ]
  },
  {
   "cell_type": "code",
   "execution_count": 11,
   "id": "8fe42134",
   "metadata": {},
   "outputs": [
    {
     "name": "stdout",
     "output_type": "stream",
     "text": [
      "700\n"
     ]
    }
   ],
   "source": [
    "adder(200,500) "
   ]
  },
  {
   "cell_type": "code",
   "execution_count": 12,
   "id": "ca71314b",
   "metadata": {},
   "outputs": [
    {
     "name": "stdout",
     "output_type": "stream",
     "text": [
      "-100\n"
     ]
    }
   ],
   "source": [
    "# # defing a subtractor\n",
    "\n",
    "\n",
    "def sub(a,b):\n",
    "    print(a-b)\n",
    "    \n",
    "    \n",
    "sub(200,300)"
   ]
  },
  {
   "cell_type": "code",
   "execution_count": 13,
   "id": "899640d6",
   "metadata": {},
   "outputs": [
    {
     "name": "stdout",
     "output_type": "stream",
     "text": [
      "100\n"
     ]
    }
   ],
   "source": [
    "\n",
    "def sub(b,a):\n",
    "    print(a-b)\n",
    "    \n",
    "    \n",
    "sub(200,300)"
   ]
  },
  {
   "cell_type": "code",
   "execution_count": 14,
   "id": "9fd0dae7",
   "metadata": {},
   "outputs": [
    {
     "name": "stdout",
     "output_type": "stream",
     "text": [
      "600\n"
     ]
    }
   ],
   "source": [
    "# add three numbers\n",
    "\n",
    "def adder(a,b,c):\n",
    "    print(a+b+c)\n",
    "    \n",
    "    \n",
    "adder(100,200,300) "
   ]
  },
  {
   "cell_type": "code",
   "execution_count": 15,
   "id": "13aa50ae",
   "metadata": {},
   "outputs": [
    {
     "name": "stdout",
     "output_type": "stream",
     "text": [
      "600\n"
     ]
    }
   ],
   "source": [
    "def calc(b,c,a):\n",
    "    print(a+b-c)\n",
    "    \n",
    "    \n",
    "adder(100,200,300) "
   ]
  }
 ],
 "metadata": {
  "kernelspec": {
   "display_name": "Python 3 (ipykernel)",
   "language": "python",
   "name": "python3"
  },
  "language_info": {
   "codemirror_mode": {
    "name": "ipython",
    "version": 3
   },
   "file_extension": ".py",
   "mimetype": "text/x-python",
   "name": "python",
   "nbconvert_exporter": "python",
   "pygments_lexer": "ipython3",
   "version": "3.10.5"
  }
 },
 "nbformat": 4,
 "nbformat_minor": 5
}
