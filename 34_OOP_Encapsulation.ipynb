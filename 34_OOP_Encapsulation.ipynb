{
 "cells": [
  {
   "cell_type": "code",
   "execution_count": null,
   "id": "9204950c",
   "metadata": {},
   "outputs": [],
   "source": []
  },
  {
   "cell_type": "markdown",
   "id": "a7f19ae1",
   "metadata": {},
   "source": [
    "# private variables"
   ]
  },
  {
   "cell_type": "code",
   "execution_count": 26,
   "id": "5cd50f51",
   "metadata": {},
   "outputs": [],
   "source": [
    "class Account:\n",
    "    counter = 0\n",
    "    def __init__(self,openig_bal=0):\n",
    "        Account.counter =  Account.counter +1\n",
    "        self.id = Account.counter\n",
    "        self.bal = openig_bal\n",
    "        self.num_transactions = 0\n",
    "        self.max_transactions = 6\n",
    "        \n",
    "        \n",
    "    def deposit(self,amount):\n",
    "        if amount > 0 and self.num_transactions < self.max_transactions:\n",
    "            self.bal = self.bal+amount\n",
    "            self.num_transactions = self.num_transactions+1\n",
    "    def withdraw(self,amount):\n",
    "        if amount > 0 and self.bal>= amount  and self.num_transactions < self.max_transactions:\n",
    "            self.bal = self.bal - amount\n",
    "            self.num_transactions = self.num_transactions+1\n",
    "    def __str__(self):\n",
    "        return \"Ac Number : {} and Bal is Rs. : {} and No of TX : {}\".format(self.id,self.bal,self.num_transactions)\n",
    "class SavingsAccount(Account):\n",
    "    pass\n",
    "class CurrentAccount(Account):\n",
    "    def __init__(self):\n",
    "        super().__init__(self)\n",
    "        self.max_transactions = 300\n",
    "sa1 = SavingsAccount()\n",
    "ca1 =  CurrentAccount()"
   ]
  },
  {
   "cell_type": "code",
   "execution_count": 27,
   "id": "522c9bdc",
   "metadata": {},
   "outputs": [],
   "source": [
    "sa1.deposit(100)"
   ]
  },
  {
   "cell_type": "code",
   "execution_count": 28,
   "id": "822a389d",
   "metadata": {},
   "outputs": [
    {
     "name": "stdout",
     "output_type": "stream",
     "text": [
      "Ac Number : 1 and Bal is Rs. : 100 and No of TX : 1\n"
     ]
    }
   ],
   "source": [
    "print(sa1)"
   ]
  },
  {
   "cell_type": "code",
   "execution_count": 29,
   "id": "90aefc2b",
   "metadata": {},
   "outputs": [],
   "source": [
    "sa1.bal = 500"
   ]
  },
  {
   "cell_type": "code",
   "execution_count": 30,
   "id": "b8baa57e",
   "metadata": {},
   "outputs": [
    {
     "name": "stdout",
     "output_type": "stream",
     "text": [
      "Ac Number : 1 and Bal is Rs. : 500 and No of TX : 1\n"
     ]
    }
   ],
   "source": [
    "print(sa1)"
   ]
  },
  {
   "cell_type": "code",
   "execution_count": 31,
   "id": "0c0cbde6",
   "metadata": {},
   "outputs": [
    {
     "name": "stdout",
     "output_type": "stream",
     "text": [
      "Ac Number : 1 and Bal is Rs. : 600 and No of TX : 2\n"
     ]
    }
   ],
   "source": [
    "sa1.deposit(100)\n",
    "print(sa1)"
   ]
  },
  {
   "cell_type": "code",
   "execution_count": 32,
   "id": "ee130a1b",
   "metadata": {},
   "outputs": [],
   "source": [
    "# Types\n",
    "# Public : self.bal\n",
    "# Protected : self._bal warning the developer as not to use this var outside , or change its value directly\n",
    "# Private : self.__bal"
   ]
  },
  {
   "cell_type": "code",
   "execution_count": 50,
   "id": "a1e6483b",
   "metadata": {},
   "outputs": [],
   "source": [
    "class Account:\n",
    "    counter = 0\n",
    "    def __init__(self,openig_bal=0):\n",
    "        Account.counter =  Account.counter +1\n",
    "        self.id = Account.counter\n",
    "        self.__bal = openig_bal #private variable\n",
    "        self.num_transactions = 0\n",
    "        self.max_transactions = 6\n",
    "        \n",
    "        \n",
    "    def deposit(self,amount):\n",
    "        if amount > 0 and self.num_transactions < self.max_transactions:\n",
    "            self.__bal = self.__bal+amount\n",
    "            self.num_transactions = self.num_transactions+1\n",
    "    def withdraw(self,amount):\n",
    "        if amount > 0 and self.__bal>= amount  and self.num_transactions < self.max_transactions:\n",
    "            self.__bal = self.__bal - amount\n",
    "            self.num_transactions = self.num_transactions+1\n",
    "    def __str__(self):\n",
    "        return \"Ac Number : {} and Bal is Rs. : {} and No of TX : {}\".format(self.id,self.__bal,self.num_transactions)\n",
    "class SavingsAccount(Account):\n",
    "    pass\n",
    "class CurrentAccount(Account):\n",
    "    def __init__(self):\n",
    "        super().__init__(self)\n",
    "        self.max_transactions = 300\n",
    "sa1 = SavingsAccount()\n",
    "ca1 =  CurrentAccount()"
   ]
  },
  {
   "cell_type": "code",
   "execution_count": 51,
   "id": "ddad1ff6",
   "metadata": {},
   "outputs": [],
   "source": [
    "sa1.deposit(100)"
   ]
  },
  {
   "cell_type": "code",
   "execution_count": 52,
   "id": "c8e0fbc6",
   "metadata": {},
   "outputs": [],
   "source": [
    "sa1.__bal = 500"
   ]
  },
  {
   "cell_type": "code",
   "execution_count": 53,
   "id": "35455305",
   "metadata": {},
   "outputs": [
    {
     "name": "stdout",
     "output_type": "stream",
     "text": [
      "Ac Number : 1 and Bal is Rs. : 100 and No of TX : 1\n"
     ]
    }
   ],
   "source": [
    "print(sa1)"
   ]
  },
  {
   "cell_type": "code",
   "execution_count": 54,
   "id": "6eb86b70",
   "metadata": {},
   "outputs": [
    {
     "name": "stdout",
     "output_type": "stream",
     "text": [
      "500\n"
     ]
    }
   ],
   "source": [
    "print(sa1.__bal)"
   ]
  },
  {
   "cell_type": "code",
   "execution_count": 55,
   "id": "bf15f324",
   "metadata": {},
   "outputs": [],
   "source": [
    "# NAME MANGLING"
   ]
  },
  {
   "cell_type": "code",
   "execution_count": 56,
   "id": "819041a7",
   "metadata": {},
   "outputs": [],
   "source": [
    "# after name mangling \n",
    "# sa1.bal  > sa1.__bal > sa1._Account__bal"
   ]
  },
  {
   "cell_type": "code",
   "execution_count": 57,
   "id": "def91a25",
   "metadata": {},
   "outputs": [],
   "source": [
    "sa1._Account__bal = 500"
   ]
  },
  {
   "cell_type": "code",
   "execution_count": 58,
   "id": "5d22c8a6",
   "metadata": {},
   "outputs": [
    {
     "name": "stdout",
     "output_type": "stream",
     "text": [
      "Ac Number : 1 and Bal is Rs. : 500 and No of TX : 1\n"
     ]
    }
   ],
   "source": [
    "print(sa1)"
   ]
  },
  {
   "cell_type": "code",
   "execution_count": 59,
   "id": "aa3587a4",
   "metadata": {},
   "outputs": [],
   "source": [
    "sa1.withdraw(1200)"
   ]
  },
  {
   "cell_type": "code",
   "execution_count": 60,
   "id": "d4425780",
   "metadata": {},
   "outputs": [
    {
     "name": "stdout",
     "output_type": "stream",
     "text": [
      "Ac Number : 1 and Bal is Rs. : 500 and No of TX : 1\n"
     ]
    }
   ],
   "source": [
    "print(sa1)"
   ]
  },
  {
   "cell_type": "markdown",
   "id": "dbaae440",
   "metadata": {},
   "source": [
    "# Encapsulation"
   ]
  },
  {
   "cell_type": "code",
   "execution_count": 61,
   "id": "5a65d794",
   "metadata": {},
   "outputs": [],
   "source": [
    "class PowerPlant:\n",
    "    def __init__(self,location,capacity,employees):\n",
    "        self.location = location\n",
    "        self.capacity = capacity\n",
    "        self.employees = employees\n",
    "        \n",
    "\n",
    "\n",
    "p1 = PowerPlant(\"Nashik\",'700MW',120)"
   ]
  },
  {
   "cell_type": "code",
   "execution_count": 62,
   "id": "a6e85b50",
   "metadata": {},
   "outputs": [
    {
     "name": "stdout",
     "output_type": "stream",
     "text": [
      "Nashik\n"
     ]
    }
   ],
   "source": [
    "print(p1.location)"
   ]
  },
  {
   "cell_type": "code",
   "execution_count": 67,
   "id": "b2b6e3a5",
   "metadata": {},
   "outputs": [
    {
     "name": "stdout",
     "output_type": "stream",
     "text": [
      "Thane\n"
     ]
    }
   ],
   "source": [
    "p1.location=\"Thane\"\n",
    "print(p1.location)"
   ]
  },
  {
   "cell_type": "code",
   "execution_count": 80,
   "id": "b815a1b9",
   "metadata": {},
   "outputs": [],
   "source": [
    "class PowerPlant:\n",
    "    def __init__(self,location,capacity,employees):\n",
    "        self.__location = location\n",
    "        self.capacity = capacity\n",
    "        self.employees = employees\n",
    "    def __str__(self):\n",
    "        return \"Location is {} and cap is {} with {} employees\".format(self.__location,self.capacity,self.employees)\n",
    "        \n",
    "\n",
    "\n",
    "p1 = PowerPlant(\"Nashik\",'700MW',120)"
   ]
  },
  {
   "cell_type": "code",
   "execution_count": 81,
   "id": "e0980966",
   "metadata": {},
   "outputs": [],
   "source": [
    "p1.__location = \"Nagpur\""
   ]
  },
  {
   "cell_type": "code",
   "execution_count": 82,
   "id": "401333a0",
   "metadata": {},
   "outputs": [
    {
     "name": "stdout",
     "output_type": "stream",
     "text": [
      "Nagpur\n"
     ]
    }
   ],
   "source": [
    "print(p1.__location)"
   ]
  },
  {
   "cell_type": "code",
   "execution_count": 83,
   "id": "4c3cc569",
   "metadata": {},
   "outputs": [
    {
     "name": "stdout",
     "output_type": "stream",
     "text": [
      "Location is Nashik and cap is 700MW with 120 employees\n"
     ]
    }
   ],
   "source": [
    "print(p1)"
   ]
  },
  {
   "cell_type": "code",
   "execution_count": 84,
   "id": "070c002a",
   "metadata": {},
   "outputs": [],
   "source": [
    "p1._PowerPlant__location = \"Tarapur\""
   ]
  },
  {
   "cell_type": "code",
   "execution_count": 85,
   "id": "16a91670",
   "metadata": {},
   "outputs": [
    {
     "name": "stdout",
     "output_type": "stream",
     "text": [
      "Location is Tarapur and cap is 700MW with 120 employees\n"
     ]
    }
   ],
   "source": [
    "print(p1)"
   ]
  },
  {
   "cell_type": "code",
   "execution_count": null,
   "id": "6d345028",
   "metadata": {},
   "outputs": [],
   "source": []
  }
 ],
 "metadata": {
  "kernelspec": {
   "display_name": "Python 3 (ipykernel)",
   "language": "python",
   "name": "python3"
  },
  "language_info": {
   "codemirror_mode": {
    "name": "ipython",
    "version": 3
   },
   "file_extension": ".py",
   "mimetype": "text/x-python",
   "name": "python",
   "nbconvert_exporter": "python",
   "pygments_lexer": "ipython3",
   "version": "3.10.5"
  }
 },
 "nbformat": 4,
 "nbformat_minor": 5
}
