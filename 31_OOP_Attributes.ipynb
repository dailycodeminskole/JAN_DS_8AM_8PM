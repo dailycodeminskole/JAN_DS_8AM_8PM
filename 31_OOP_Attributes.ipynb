{
 "cells": [
  {
   "cell_type": "code",
   "execution_count": 1,
   "id": "5062c404",
   "metadata": {},
   "outputs": [],
   "source": [
    "# revison"
   ]
  },
  {
   "cell_type": "code",
   "execution_count": 2,
   "id": "19941f28",
   "metadata": {},
   "outputs": [],
   "source": [
    "class Student:\n",
    "    pass"
   ]
  },
  {
   "cell_type": "code",
   "execution_count": 3,
   "id": "f814d339",
   "metadata": {},
   "outputs": [],
   "source": [
    "s1 = Student()"
   ]
  },
  {
   "cell_type": "code",
   "execution_count": 4,
   "id": "cd337f6d",
   "metadata": {},
   "outputs": [
    {
     "name": "stdout",
     "output_type": "stream",
     "text": [
      "<class '__main__.Student'>\n"
     ]
    }
   ],
   "source": [
    "print(type(s1))"
   ]
  },
  {
   "cell_type": "code",
   "execution_count": 7,
   "id": "70a50506",
   "metadata": {},
   "outputs": [],
   "source": [
    "s1.name = 'Aniket'\n",
    "\n",
    "# email = '123@gmail.com'\n",
    "# email.split('@')"
   ]
  },
  {
   "cell_type": "code",
   "execution_count": 8,
   "id": "91ca52cc",
   "metadata": {},
   "outputs": [
    {
     "name": "stdout",
     "output_type": "stream",
     "text": [
      "Aniket\n"
     ]
    }
   ],
   "source": [
    "print(s1.name)"
   ]
  },
  {
   "cell_type": "code",
   "execution_count": 9,
   "id": "345d2e11",
   "metadata": {},
   "outputs": [],
   "source": [
    "s2 = Student() #we are calling the class"
   ]
  },
  {
   "cell_type": "code",
   "execution_count": 11,
   "id": "89687002",
   "metadata": {},
   "outputs": [],
   "source": [
    "s3 = Student #s3 will be a class now , we are assingh the class name to another variable"
   ]
  },
  {
   "cell_type": "code",
   "execution_count": 12,
   "id": "cdb108eb",
   "metadata": {},
   "outputs": [
    {
     "name": "stdout",
     "output_type": "stream",
     "text": [
      "<class '__main__.Student'>\n"
     ]
    }
   ],
   "source": [
    "s4 = s3()\n",
    "print(type(s4))"
   ]
  },
  {
   "cell_type": "code",
   "execution_count": 13,
   "id": "1582a4b7",
   "metadata": {},
   "outputs": [],
   "source": [
    "# adding more attributes\n",
    "s1.roll = 120"
   ]
  },
  {
   "cell_type": "code",
   "execution_count": 14,
   "id": "0c1947a2",
   "metadata": {},
   "outputs": [
    {
     "name": "stdout",
     "output_type": "stream",
     "text": [
      "120\n"
     ]
    }
   ],
   "source": [
    "print(s1.roll)"
   ]
  },
  {
   "cell_type": "code",
   "execution_count": 31,
   "id": "79be124f",
   "metadata": {},
   "outputs": [],
   "source": [
    "# using constructor\n",
    "\n",
    "\n",
    "class Student:\n",
    "    def __init__(self,name,roll,place): #self represents the object\n",
    "        self.name = name\n",
    "        self.roll = roll\n",
    "        self.place = place\n",
    "    def __str__(self):\n",
    "#         return \"Have a good day\"\n",
    "        return \"The name of Student is : {} roll no is : {} live in {}\".format(self.name,self.roll,self.place)\n",
    "            \n",
    "s5= Student('Akash',105,'Nashik')"
   ]
  },
  {
   "cell_type": "code",
   "execution_count": 18,
   "id": "93e96948",
   "metadata": {},
   "outputs": [
    {
     "name": "stdout",
     "output_type": "stream",
     "text": [
      "Akash\n",
      "105\n",
      "Nashik\n"
     ]
    }
   ],
   "source": [
    "print(s5.name)\n",
    "print(s5.roll)\n",
    "print(s5.place)"
   ]
  },
  {
   "cell_type": "code",
   "execution_count": 22,
   "id": "2ce5134f",
   "metadata": {},
   "outputs": [
    {
     "name": "stdout",
     "output_type": "stream",
     "text": [
      "[11, 22, 33, 44]\n"
     ]
    }
   ],
   "source": [
    "l1 = [11,22,33,44]\n",
    "print(l1)"
   ]
  },
  {
   "cell_type": "code",
   "execution_count": 25,
   "id": "9194ed21",
   "metadata": {},
   "outputs": [],
   "source": [
    "# print(list(s5)) #this is not possible as types are incompatible"
   ]
  },
  {
   "cell_type": "code",
   "execution_count": 26,
   "id": "aa3f692e",
   "metadata": {},
   "outputs": [
    {
     "name": "stdout",
     "output_type": "stream",
     "text": [
      "<__main__.Student object at 0x0000014E0DDEC100>\n"
     ]
    }
   ],
   "source": [
    "print(s5)"
   ]
  },
  {
   "cell_type": "code",
   "execution_count": 28,
   "id": "43cbf3ba",
   "metadata": {},
   "outputs": [
    {
     "name": "stdout",
     "output_type": "stream",
     "text": [
      "60\n",
      "3000\n"
     ]
    }
   ],
   "source": [
    "def sum(a,b,c):\n",
    "    print(a+b+c)\n",
    "sum(10,20,30)\n",
    "\n",
    "def mul(a,b,c):\n",
    "    print(a*b*c)\n",
    "mul(10,20,15)"
   ]
  },
  {
   "cell_type": "code",
   "execution_count": 32,
   "id": "265bf3ad",
   "metadata": {},
   "outputs": [
    {
     "name": "stdout",
     "output_type": "stream",
     "text": [
      "Have a good day\n"
     ]
    }
   ],
   "source": [
    "print(s5)"
   ]
  },
  {
   "cell_type": "code",
   "execution_count": 47,
   "id": "7c143cee",
   "metadata": {},
   "outputs": [],
   "source": [
    "class Student:\n",
    "    counter = 0\n",
    "    def __init__(self,name): #self represents the object\n",
    "        self.name = name        \n",
    "        Student.counter = Student.counter+1\n",
    "        self.roll = Student.counter\n",
    "    def __str__(self):\n",
    "#         return \"Have a good day\"\n",
    "        return \"The name of Student is : {} roll no is : {} \".format(self.name,self.roll)"
   ]
  },
  {
   "cell_type": "code",
   "execution_count": 48,
   "id": "e13e7ff5",
   "metadata": {},
   "outputs": [
    {
     "name": "stdout",
     "output_type": "stream",
     "text": [
      "The name of Student is : AMit roll no is : 1 \n"
     ]
    }
   ],
   "source": [
    "s1 = Student('AMit')\n",
    "print(s1)"
   ]
  },
  {
   "cell_type": "code",
   "execution_count": 49,
   "id": "cc1d4232",
   "metadata": {},
   "outputs": [
    {
     "name": "stdout",
     "output_type": "stream",
     "text": [
      "The name of Student is : Akash roll no is : 2 \n"
     ]
    }
   ],
   "source": [
    "s2 = Student('Akash')\n",
    "print(s2)"
   ]
  },
  {
   "cell_type": "code",
   "execution_count": 50,
   "id": "7b764857",
   "metadata": {},
   "outputs": [
    {
     "name": "stdout",
     "output_type": "stream",
     "text": [
      "The name of Student is : Aniket roll no is : 3 \n"
     ]
    }
   ],
   "source": [
    "s3 = Student('Aniket')\n",
    "print(s3)"
   ]
  },
  {
   "cell_type": "code",
   "execution_count": 51,
   "id": "1970ea9b",
   "metadata": {},
   "outputs": [],
   "source": [
    "s1.counter = 777 #we have created another attribue for the object s1"
   ]
  },
  {
   "cell_type": "code",
   "execution_count": 52,
   "id": "5e824162",
   "metadata": {},
   "outputs": [
    {
     "name": "stdout",
     "output_type": "stream",
     "text": [
      "The name of Student is : Akash roll no is : 4 \n"
     ]
    }
   ],
   "source": [
    "s2 = Student('Akash')\n",
    "print(s2)"
   ]
  },
  {
   "cell_type": "code",
   "execution_count": 53,
   "id": "6d44cfd1",
   "metadata": {},
   "outputs": [
    {
     "name": "stdout",
     "output_type": "stream",
     "text": [
      "The name of Student is : Akhil roll no is : 5 \n"
     ]
    }
   ],
   "source": [
    "s5 = Student(\"Akhil\")\n",
    "print(s5)"
   ]
  },
  {
   "cell_type": "code",
   "execution_count": 57,
   "id": "2f01ef02",
   "metadata": {},
   "outputs": [
    {
     "name": "stdout",
     "output_type": "stream",
     "text": [
      "Vehicle name : Maruti \n",
      "Mileage : 15\n"
     ]
    }
   ],
   "source": [
    "class Vehicle:\n",
    "    country  = \"India\"\n",
    "    def __init__(self,name,mileage):\n",
    "        self.name =  name\n",
    "        self.mileage = mileage\n",
    "    def __str__(self):\n",
    "        return \"Vehicle name : {} \\nMileage : {}\".format(self.name,self.mileage)\n",
    "        \n",
    "v1 = Vehicle(\"Maruti\",15)\n",
    "print(v1)"
   ]
  },
  {
   "cell_type": "code",
   "execution_count": 58,
   "id": "3a4b3544",
   "metadata": {},
   "outputs": [
    {
     "name": "stdout",
     "output_type": "stream",
     "text": [
      "India\n"
     ]
    }
   ],
   "source": [
    "print(v1.country)\n",
    "# print(Vehicle.country)"
   ]
  },
  {
   "cell_type": "code",
   "execution_count": 60,
   "id": "24d74388",
   "metadata": {},
   "outputs": [],
   "source": [
    "v1.country = \"USA\""
   ]
  },
  {
   "cell_type": "code",
   "execution_count": 61,
   "id": "5b69cd3d",
   "metadata": {},
   "outputs": [],
   "source": [
    "v2 = Vehicle(\"mahindra\" ,14)"
   ]
  },
  {
   "cell_type": "code",
   "execution_count": 67,
   "id": "affe9bc9",
   "metadata": {},
   "outputs": [
    {
     "name": "stdout",
     "output_type": "stream",
     "text": [
      "SriLanka\n"
     ]
    }
   ],
   "source": [
    "print(v2.country)"
   ]
  },
  {
   "cell_type": "code",
   "execution_count": 63,
   "id": "85c56ef8",
   "metadata": {},
   "outputs": [
    {
     "name": "stdout",
     "output_type": "stream",
     "text": [
      "USA\n"
     ]
    }
   ],
   "source": [
    "print(v1.country)"
   ]
  },
  {
   "cell_type": "code",
   "execution_count": 64,
   "id": "d5680a64",
   "metadata": {},
   "outputs": [
    {
     "name": "stdout",
     "output_type": "stream",
     "text": [
      "India\n"
     ]
    }
   ],
   "source": [
    "print(Vehicle.country)"
   ]
  },
  {
   "cell_type": "code",
   "execution_count": 65,
   "id": "a9f6c18f",
   "metadata": {},
   "outputs": [],
   "source": [
    "Vehicle.country= \"SriLanka\""
   ]
  },
  {
   "cell_type": "code",
   "execution_count": 66,
   "id": "3e451d6a",
   "metadata": {},
   "outputs": [
    {
     "name": "stdout",
     "output_type": "stream",
     "text": [
      "SriLanka\n"
     ]
    }
   ],
   "source": [
    "print(Vehicle.country)"
   ]
  },
  {
   "cell_type": "code",
   "execution_count": null,
   "id": "79c8e55d",
   "metadata": {},
   "outputs": [],
   "source": []
  }
 ],
 "metadata": {
  "kernelspec": {
   "display_name": "Python 3 (ipykernel)",
   "language": "python",
   "name": "python3"
  },
  "language_info": {
   "codemirror_mode": {
    "name": "ipython",
    "version": 3
   },
   "file_extension": ".py",
   "mimetype": "text/x-python",
   "name": "python",
   "nbconvert_exporter": "python",
   "pygments_lexer": "ipython3",
   "version": "3.10.5"
  }
 },
 "nbformat": 4,
 "nbformat_minor": 5
}
