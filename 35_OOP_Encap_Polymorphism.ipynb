{
 "cells": [
  {
   "cell_type": "markdown",
   "id": "7582d010",
   "metadata": {},
   "source": [
    "# Encaapsulation"
   ]
  },
  {
   "cell_type": "code",
   "execution_count": 23,
   "id": "06591ad6",
   "metadata": {},
   "outputs": [],
   "source": [
    "class PowerPlant:\n",
    "    def __init__(self,location,capacity,employees):\n",
    "        self.__location = location\n",
    "        self.capacity = capacity\n",
    "        self.employees = employees\n",
    "    def __str__(self):\n",
    "        return \"Location is {} and cap is {} with {} employees\".format(self.__location,self.capacity,self.employees)\n",
    "      #getter\n",
    "    def locate(self):\n",
    "        print(\"the location has been accessed,call 10888 for Emp ID who has accessed\")\n",
    "        return self.__location\n",
    "    #setter\n",
    "    def locate_change(self,new_location):\n",
    "        print(\"the location has been changed,call 10888 if not changed\")\n",
    "        self.__location = new_location\n",
    "\n",
    "p1 = PowerPlant(\"Nashik\",'700MW',120)"
   ]
  },
  {
   "cell_type": "code",
   "execution_count": 8,
   "id": "887308bc",
   "metadata": {},
   "outputs": [],
   "source": [
    "p1.__location = \"Satara\" #new attribute with name __location will be created"
   ]
  },
  {
   "cell_type": "code",
   "execution_count": 9,
   "id": "3c2ddbef",
   "metadata": {},
   "outputs": [],
   "source": [
    "# Accessing/modifying the attibute via name mangling\n",
    "p1._PowerPlant__location = \"Beed\""
   ]
  },
  {
   "cell_type": "code",
   "execution_count": 10,
   "id": "23c53ba6",
   "metadata": {},
   "outputs": [
    {
     "name": "stdout",
     "output_type": "stream",
     "text": [
      "Location is Beed and cap is 700MW with 120 employees\n"
     ]
    }
   ],
   "source": [
    "print(p1)"
   ]
  },
  {
   "cell_type": "code",
   "execution_count": 11,
   "id": "9335f25a",
   "metadata": {},
   "outputs": [
    {
     "name": "stdout",
     "output_type": "stream",
     "text": [
      "Satara\n"
     ]
    }
   ],
   "source": [
    "print(p1.__location)"
   ]
  },
  {
   "cell_type": "code",
   "execution_count": 13,
   "id": "1a09b201",
   "metadata": {},
   "outputs": [
    {
     "data": {
      "text/plain": [
       "'Beed'"
      ]
     },
     "execution_count": 13,
     "metadata": {},
     "output_type": "execute_result"
    }
   ],
   "source": [
    "# Accessing the attibute via  a  function i.e getter/accessor\n",
    "p1.locate()"
   ]
  },
  {
   "cell_type": "code",
   "execution_count": 20,
   "id": "626bc072",
   "metadata": {},
   "outputs": [
    {
     "name": "stdout",
     "output_type": "stream",
     "text": [
      "the location has been changed,call 10888 if not changed\n"
     ]
    }
   ],
   "source": [
    "# modifying the attibute via  a  function i.e setter/modifier\n",
    "p1.locate_change(\"Thane\")"
   ]
  },
  {
   "cell_type": "code",
   "execution_count": 22,
   "id": "dbd7518b",
   "metadata": {},
   "outputs": [
    {
     "name": "stdout",
     "output_type": "stream",
     "text": [
      "the location has been accessed,call 10888 for Emp ID who has accessed\n"
     ]
    },
    {
     "data": {
      "text/plain": [
       "'Nashik'"
      ]
     },
     "execution_count": 22,
     "metadata": {},
     "output_type": "execute_result"
    }
   ],
   "source": [
    "p1.locate()"
   ]
  },
  {
   "cell_type": "code",
   "execution_count": null,
   "id": "92aa8ba9",
   "metadata": {},
   "outputs": [],
   "source": []
  },
  {
   "cell_type": "markdown",
   "id": "205b22be",
   "metadata": {},
   "source": [
    "# Polymorphism"
   ]
  },
  {
   "cell_type": "code",
   "execution_count": 24,
   "id": "59c77902",
   "metadata": {},
   "outputs": [
    {
     "name": "stdout",
     "output_type": "stream",
     "text": [
      "300\n"
     ]
    }
   ],
   "source": [
    "print(100+200)"
   ]
  },
  {
   "cell_type": "code",
   "execution_count": 25,
   "id": "22f26e88",
   "metadata": {},
   "outputs": [
    {
     "name": "stdout",
     "output_type": "stream",
     "text": [
      "This is a good day!!!\n"
     ]
    }
   ],
   "source": [
    "print(\"This is a good day!!!\")"
   ]
  },
  {
   "cell_type": "code",
   "execution_count": 26,
   "id": "c43a2066",
   "metadata": {},
   "outputs": [
    {
     "name": "stdout",
     "output_type": "stream",
     "text": [
      "True\n"
     ]
    }
   ],
   "source": [
    "print(100>50)"
   ]
  },
  {
   "cell_type": "code",
   "execution_count": 27,
   "id": "1c0ccdc0",
   "metadata": {},
   "outputs": [],
   "source": [
    "# eg :\n",
    "class India:\n",
    "    def capital(self):\n",
    "        print(\"New Delhi\")\n",
    "        \n",
    "        \n",
    "class Nepal:\n",
    "    def capital(self):\n",
    "        print(\"Kathmandu\") \n",
    "\n",
    "class SriLanka:\n",
    "    def capital(self):\n",
    "        print(\"Colombo\")\n",
    "        \n",
    "        \n",
    "ind = India()\n",
    "nep = Nepal()\n",
    "sl = SriLanka()"
   ]
  },
  {
   "cell_type": "code",
   "execution_count": 28,
   "id": "4a60f947",
   "metadata": {},
   "outputs": [
    {
     "name": "stdout",
     "output_type": "stream",
     "text": [
      "New Delhi\n"
     ]
    }
   ],
   "source": [
    "ind.capital()"
   ]
  },
  {
   "cell_type": "code",
   "execution_count": 29,
   "id": "54c5681e",
   "metadata": {},
   "outputs": [
    {
     "name": "stdout",
     "output_type": "stream",
     "text": [
      "Kathmandu\n"
     ]
    }
   ],
   "source": [
    "nep.capital()"
   ]
  },
  {
   "cell_type": "code",
   "execution_count": 30,
   "id": "f20293f3",
   "metadata": {},
   "outputs": [
    {
     "name": "stdout",
     "output_type": "stream",
     "text": [
      "Colombo\n"
     ]
    }
   ],
   "source": [
    "sl.capital()"
   ]
  },
  {
   "cell_type": "code",
   "execution_count": 31,
   "id": "447fee6a",
   "metadata": {},
   "outputs": [],
   "source": [
    "#eg 2"
   ]
  },
  {
   "cell_type": "code",
   "execution_count": 40,
   "id": "c8f1e69a",
   "metadata": {},
   "outputs": [],
   "source": [
    "class Account:\n",
    "    counter = 0\n",
    "    def __init__(self,openig_bal=0):\n",
    "        Account.counter =  Account.counter +1\n",
    "        self.id = Account.counter\n",
    "        self.__bal = openig_bal #private variable\n",
    "        self.num_transactions = 0\n",
    "        self.max_transactions = 6\n",
    "        \n",
    "        \n",
    "    def deposit(self,amount):\n",
    "        if amount > 0 and self.num_transactions < self.max_transactions:\n",
    "            self.__bal = self.__bal+amount\n",
    "            self.num_transactions = self.num_transactions+1\n",
    "    def withdraw(self,amount):\n",
    "        if amount > 0 and self.__bal>= amount  and self.num_transactions < self.max_transactions:\n",
    "            self.__bal = self.__bal - amount\n",
    "            self.num_transactions = self.num_transactions+1\n",
    "    def __str__(self):\n",
    "        return \"Ac Number : {} and Bal is Rs. : {} and No of TX : {}\".format(self.id,self.__bal,self.num_transactions)\n",
    "class SavingsAccount(Account):\n",
    "    pass\n",
    "class CurrentAccount(Account):\n",
    "    def __init__(self):\n",
    "        super().__init__(self)\n",
    "        self.max_transactions = 300\n",
    "    def get_interest(self):\n",
    "        return self._Account__bal*0\n",
    "        \n",
    "sa1 = SavingsAccount()\n",
    "ca1 =  CurrentAccount()"
   ]
  },
  {
   "cell_type": "code",
   "execution_count": 42,
   "id": "d70d1b78",
   "metadata": {},
   "outputs": [
    {
     "ename": "TypeError",
     "evalue": "unsupported operand type(s) for +: 'CurrentAccount' and 'int'",
     "output_type": "error",
     "traceback": [
      "\u001b[1;31m---------------------------------------------------------------------------\u001b[0m",
      "\u001b[1;31mTypeError\u001b[0m                                 Traceback (most recent call last)",
      "Input \u001b[1;32mIn [42]\u001b[0m, in \u001b[0;36m<cell line: 1>\u001b[1;34m()\u001b[0m\n\u001b[1;32m----> 1\u001b[0m \u001b[43mca1\u001b[49m\u001b[38;5;241;43m.\u001b[39;49m\u001b[43mdeposit\u001b[49m\u001b[43m(\u001b[49m\u001b[38;5;241;43m1000\u001b[39;49m\u001b[43m)\u001b[49m\n",
      "Input \u001b[1;32mIn [40]\u001b[0m, in \u001b[0;36mAccount.deposit\u001b[1;34m(self, amount)\u001b[0m\n\u001b[0;32m     11\u001b[0m \u001b[38;5;28;01mdef\u001b[39;00m \u001b[38;5;21mdeposit\u001b[39m(\u001b[38;5;28mself\u001b[39m,amount):\n\u001b[0;32m     12\u001b[0m     \u001b[38;5;28;01mif\u001b[39;00m amount \u001b[38;5;241m>\u001b[39m \u001b[38;5;241m0\u001b[39m \u001b[38;5;129;01mand\u001b[39;00m \u001b[38;5;28mself\u001b[39m\u001b[38;5;241m.\u001b[39mnum_transactions \u001b[38;5;241m<\u001b[39m \u001b[38;5;28mself\u001b[39m\u001b[38;5;241m.\u001b[39mmax_transactions:\n\u001b[1;32m---> 13\u001b[0m         \u001b[38;5;28mself\u001b[39m\u001b[38;5;241m.\u001b[39m__bal \u001b[38;5;241m=\u001b[39m \u001b[38;5;28;43mself\u001b[39;49m\u001b[38;5;241;43m.\u001b[39;49m\u001b[43m__bal\u001b[49m\u001b[38;5;241;43m+\u001b[39;49m\u001b[43mamount\u001b[49m\n\u001b[0;32m     14\u001b[0m         \u001b[38;5;28mself\u001b[39m\u001b[38;5;241m.\u001b[39mnum_transactions \u001b[38;5;241m=\u001b[39m \u001b[38;5;28mself\u001b[39m\u001b[38;5;241m.\u001b[39mnum_transactions\u001b[38;5;241m+\u001b[39m\u001b[38;5;241m1\u001b[39m\n",
      "\u001b[1;31mTypeError\u001b[0m: unsupported operand type(s) for +: 'CurrentAccount' and 'int'"
     ]
    }
   ],
   "source": [
    "ca1.deposit(1000)"
   ]
  },
  {
   "cell_type": "code",
   "execution_count": null,
   "id": "98cf0ecf",
   "metadata": {},
   "outputs": [],
   "source": []
  },
  {
   "cell_type": "code",
   "execution_count": 52,
   "id": "e58f9370",
   "metadata": {},
   "outputs": [],
   "source": [
    "class Account:\n",
    "    counter = 0\n",
    "    def __init__(self,openig_bal=0):\n",
    "        Account.counter =  Account.counter +1\n",
    "        self.id = Account.counter\n",
    "        self.__bal = openig_bal #private variable\n",
    "        self.num_transactions = 0\n",
    "        self.max_transactions = 6\n",
    "        \n",
    "        \n",
    "    def deposit(self,amount):\n",
    "        if amount > 0 and self.num_transactions < self.max_transactions:\n",
    "            self.__bal = self.__bal+amount\n",
    "            self.num_transactions = self.num_transactions+1\n",
    "    def withdraw(self,amount):\n",
    "        if amount > 0 and self.__bal>= amount  and self.num_transactions < self.max_transactions:\n",
    "            self.__bal = self.__bal - amount\n",
    "            self.num_transactions = self.num_transactions+1\n",
    "    def __str__(self):\n",
    "        return \"Ac Number : {} and Bal is Rs. : {} and No of TX : {}\".format(self.id,self.__bal,self.num_transactions)\n",
    "class SavingsAccount(Account):\n",
    "        def get_interest(self):\n",
    "            return self._Account__bal*0.07\n",
    "\n",
    "class CurrentAccount(Account):\n",
    "#     def __init__(self):\n",
    "#         super().__init__(self)\n",
    "#         self.max_transactions = 300\n",
    "    def get_interest(self):\n",
    "        return self._Account__bal*0\n",
    "        \n",
    "sa1 = SavingsAccount()\n",
    "ca1 =  CurrentAccount()"
   ]
  },
  {
   "cell_type": "code",
   "execution_count": 55,
   "id": "c9e264e1",
   "metadata": {},
   "outputs": [],
   "source": [
    "sa1.deposit(200)"
   ]
  },
  {
   "cell_type": "code",
   "execution_count": 56,
   "id": "349c2c61",
   "metadata": {},
   "outputs": [],
   "source": [
    "ca1.deposit(300)"
   ]
  },
  {
   "cell_type": "code",
   "execution_count": 57,
   "id": "0a317f19",
   "metadata": {},
   "outputs": [
    {
     "name": "stdout",
     "output_type": "stream",
     "text": [
      "0\n"
     ]
    }
   ],
   "source": [
    "print(ca1.get_interest())"
   ]
  },
  {
   "cell_type": "code",
   "execution_count": 58,
   "id": "835869c7",
   "metadata": {
    "scrolled": true
   },
   "outputs": [
    {
     "name": "stdout",
     "output_type": "stream",
     "text": [
      "14.000000000000002\n"
     ]
    }
   ],
   "source": [
    "print(sa1.get_interest())"
   ]
  },
  {
   "cell_type": "code",
   "execution_count": 59,
   "id": "a37e6888",
   "metadata": {},
   "outputs": [
    {
     "name": "stdout",
     "output_type": "stream",
     "text": [
      "Ac Number : 1 and Bal is Rs. : 200 and No of TX : 1\n"
     ]
    }
   ],
   "source": [
    "print(sa1)"
   ]
  },
  {
   "cell_type": "code",
   "execution_count": null,
   "id": "fd94b5df",
   "metadata": {},
   "outputs": [],
   "source": [
    "        "
   ]
  }
 ],
 "metadata": {
  "kernelspec": {
   "display_name": "Python 3 (ipykernel)",
   "language": "python",
   "name": "python3"
  },
  "language_info": {
   "codemirror_mode": {
    "name": "ipython",
    "version": 3
   },
   "file_extension": ".py",
   "mimetype": "text/x-python",
   "name": "python",
   "nbconvert_exporter": "python",
   "pygments_lexer": "ipython3",
   "version": "3.10.5"
  }
 },
 "nbformat": 4,
 "nbformat_minor": 5
}
