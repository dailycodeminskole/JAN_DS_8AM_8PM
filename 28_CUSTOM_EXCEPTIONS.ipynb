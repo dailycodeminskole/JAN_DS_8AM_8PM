{
 "cells": [
  {
   "cell_type": "markdown",
   "id": "7e4cd0b2",
   "metadata": {},
   "source": [
    "# Custom Exceptions"
   ]
  },
  {
   "cell_type": "code",
   "execution_count": 15,
   "id": "846b150e",
   "metadata": {},
   "outputs": [],
   "source": [
    "# https://docs.python.org/3.10/library/exceptions.html"
   ]
  },
  {
   "cell_type": "markdown",
   "id": "f528b9bb",
   "metadata": {},
   "source": [
    "# input in python"
   ]
  },
  {
   "cell_type": "code",
   "execution_count": 20,
   "id": "d4f19d70",
   "metadata": {},
   "outputs": [
    {
     "name": "stdout",
     "output_type": "stream",
     "text": [
      "Enter a numberrahul\n",
      "The vale of x is : rahul\n"
     ]
    }
   ],
   "source": [
    "\n",
    "\n",
    "x = 100\n",
    "x = input(\"Enter a number\")\n",
    "print(\"The vale of x is :\",x)"
   ]
  },
  {
   "cell_type": "code",
   "execution_count": 24,
   "id": "3c387723",
   "metadata": {},
   "outputs": [
    {
     "name": "stdout",
     "output_type": "stream",
     "text": [
      "Enter a number55\n",
      "<class 'int'>\n",
      "The vale of x is : 55\n"
     ]
    }
   ],
   "source": [
    "x = int(input(\"Enter a number\"))\n",
    "print(type(x)) #default input type is string\n",
    "\n",
    "print(\"The vale of x is :\",x)"
   ]
  },
  {
   "cell_type": "markdown",
   "id": "06e58dbf",
   "metadata": {},
   "source": [
    "# raising custom exception"
   ]
  },
  {
   "cell_type": "code",
   "execution_count": 27,
   "id": "60702756",
   "metadata": {},
   "outputs": [
    {
     "name": "stdout",
     "output_type": "stream",
     "text": [
      "Even numbers only19\n"
     ]
    },
    {
     "ename": "Exception",
     "evalue": "Enter even number only",
     "output_type": "error",
     "traceback": [
      "\u001b[1;31m---------------------------------------------------------------------------\u001b[0m",
      "\u001b[1;31mException\u001b[0m                                 Traceback (most recent call last)",
      "Input \u001b[1;32mIn [27]\u001b[0m, in \u001b[0;36m<cell line: 4>\u001b[1;34m()\u001b[0m\n\u001b[0;32m      3\u001b[0m x \u001b[38;5;241m=\u001b[39m \u001b[38;5;28mint\u001b[39m(\u001b[38;5;28minput\u001b[39m(\u001b[38;5;124m\"\u001b[39m\u001b[38;5;124mEven numbers only\u001b[39m\u001b[38;5;124m\"\u001b[39m))\n\u001b[0;32m      4\u001b[0m \u001b[38;5;28;01mif\u001b[39;00m x\u001b[38;5;241m%\u001b[39m\u001b[38;5;241m2\u001b[39m \u001b[38;5;241m!=\u001b[39m\u001b[38;5;241m0\u001b[39m:\n\u001b[1;32m----> 5\u001b[0m     \u001b[38;5;28;01mraise\u001b[39;00m \u001b[38;5;167;01mException\u001b[39;00m(\u001b[38;5;124m\"\u001b[39m\u001b[38;5;124mEnter even number only\u001b[39m\u001b[38;5;124m\"\u001b[39m)\n\u001b[0;32m      6\u001b[0m \u001b[38;5;28;01melse\u001b[39;00m:\n\u001b[0;32m      7\u001b[0m     \u001b[38;5;28mprint\u001b[39m(\u001b[38;5;124m\"\u001b[39m\u001b[38;5;124mEnterd number is an even number\u001b[39m\u001b[38;5;124m\"\u001b[39m)\n",
      "\u001b[1;31mException\u001b[0m: Enter even number only"
     ]
    }
   ],
   "source": [
    "# eg. 1\n",
    "\n",
    "x = int(input(\"Even numbers only\"))\n",
    "if x%2 !=0:\n",
    "    raise Exception(\"Enter even number only\")\n",
    "else:\n",
    "    print(\"Enterd number is an even number\")\n",
    "    \n",
    "    \n",
    "print(\"This is the last line\")"
   ]
  },
  {
   "cell_type": "code",
   "execution_count": 36,
   "id": "d53f20f9",
   "metadata": {},
   "outputs": [
    {
     "name": "stdout",
     "output_type": "stream",
     "text": [
      "28\n",
      "This is the last line\n"
     ]
    }
   ],
   "source": [
    "# eg.2\n",
    "# calculating the age of the user\n",
    "def calculate_age(year_born):\n",
    "    current_year  = 2023\n",
    "    if year_born>current_year:\n",
    "        raise Exception(\"Invalid year of birth\")\n",
    "    else:\n",
    "        age = current_year - year_born\n",
    "        print(age)\n",
    "\n",
    "try:\n",
    "    calculate_age(1995)\n",
    "except:\n",
    "    print(\"Invalid year of birth\")\n",
    "    \n",
    "print(\"This is the last line\")"
   ]
  },
  {
   "cell_type": "code",
   "execution_count": 45,
   "id": "bb7b8fa2",
   "metadata": {},
   "outputs": [
    {
     "name": "stdout",
     "output_type": "stream",
     "text": [
      "Enter a number23\n",
      "result  is : 4.3478260869565215\n"
     ]
    }
   ],
   "source": [
    "# eg. 3\n",
    "# handling excepting in a loop\n",
    "\n",
    "while True:\n",
    "    try:\n",
    "        num =int(input(\"Enter a number\"))\n",
    "        result = 100/num\n",
    "        print(\"result  is :\", result)\n",
    "        break        \n",
    "        \n",
    "    except Exception as e:\n",
    "        print(\"Enter proper value\")"
   ]
  },
  {
   "cell_type": "code",
   "execution_count": null,
   "id": "c8cc069d",
   "metadata": {},
   "outputs": [],
   "source": []
  }
 ],
 "metadata": {
  "kernelspec": {
   "display_name": "Python 3 (ipykernel)",
   "language": "python",
   "name": "python3"
  },
  "language_info": {
   "codemirror_mode": {
    "name": "ipython",
    "version": 3
   },
   "file_extension": ".py",
   "mimetype": "text/x-python",
   "name": "python",
   "nbconvert_exporter": "python",
   "pygments_lexer": "ipython3",
   "version": "3.10.5"
  }
 },
 "nbformat": 4,
 "nbformat_minor": 5
}
