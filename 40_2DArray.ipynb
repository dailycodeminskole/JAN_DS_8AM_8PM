{
 "cells": [
  {
   "cell_type": "markdown",
   "id": "0b4ff8b1",
   "metadata": {},
   "source": [
    "#  array creation"
   ]
  },
  {
   "cell_type": "code",
   "execution_count": 4,
   "id": "2ec1b2aa",
   "metadata": {},
   "outputs": [],
   "source": [
    "import numpy as np"
   ]
  },
  {
   "cell_type": "code",
   "execution_count": 8,
   "id": "d4fd7a21",
   "metadata": {},
   "outputs": [],
   "source": [
    "arr1 = np.arange(12)"
   ]
  },
  {
   "cell_type": "code",
   "execution_count": 9,
   "id": "e461a6b9",
   "metadata": {},
   "outputs": [
    {
     "data": {
      "text/plain": [
       "array([ 0,  1,  2,  3,  4,  5,  6,  7,  8,  9, 10, 11])"
      ]
     },
     "execution_count": 9,
     "metadata": {},
     "output_type": "execute_result"
    }
   ],
   "source": [
    "arr1\n"
   ]
  },
  {
   "cell_type": "code",
   "execution_count": 10,
   "id": "4bd794b3",
   "metadata": {},
   "outputs": [
    {
     "data": {
      "text/plain": [
       "1"
      ]
     },
     "execution_count": 10,
     "metadata": {},
     "output_type": "execute_result"
    }
   ],
   "source": [
    "arr1.ndim"
   ]
  },
  {
   "cell_type": "markdown",
   "id": "ade2e39a",
   "metadata": {},
   "source": [
    "# creating 2D Array"
   ]
  },
  {
   "cell_type": "code",
   "execution_count": 36,
   "id": "3af9de72",
   "metadata": {},
   "outputs": [],
   "source": [
    "#  using list of lists"
   ]
  },
  {
   "cell_type": "code",
   "execution_count": 11,
   "id": "4c358cf1",
   "metadata": {},
   "outputs": [],
   "source": [
    "m = ([[ 0,  1,  2,  3,  4,  5,  6,  7,  8,  9, 10, 11],[ 0,  1,  2,  3,  4,  5,  6,  7,  8,  9, 10, 11]])"
   ]
  },
  {
   "cell_type": "code",
   "execution_count": 12,
   "id": "eac44615",
   "metadata": {},
   "outputs": [
    {
     "data": {
      "text/plain": [
       "[[0, 1, 2, 3, 4, 5, 6, 7, 8, 9, 10, 11],\n",
       " [0, 1, 2, 3, 4, 5, 6, 7, 8, 9, 10, 11]]"
      ]
     },
     "execution_count": 12,
     "metadata": {},
     "output_type": "execute_result"
    }
   ],
   "source": [
    "m"
   ]
  },
  {
   "cell_type": "code",
   "execution_count": 13,
   "id": "9d67a96f",
   "metadata": {},
   "outputs": [
    {
     "name": "stdout",
     "output_type": "stream",
     "text": [
      "<class 'list'>\n"
     ]
    }
   ],
   "source": [
    "print(type(m))"
   ]
  },
  {
   "cell_type": "code",
   "execution_count": 15,
   "id": "b8c66420",
   "metadata": {},
   "outputs": [],
   "source": [
    "m_arr = np.array(m)"
   ]
  },
  {
   "cell_type": "code",
   "execution_count": 17,
   "id": "5dd10b62",
   "metadata": {},
   "outputs": [
    {
     "data": {
      "text/plain": [
       "array([[ 0,  1,  2,  3,  4,  5,  6,  7,  8,  9, 10, 11],\n",
       "       [ 0,  1,  2,  3,  4,  5,  6,  7,  8,  9, 10, 11]])"
      ]
     },
     "execution_count": 17,
     "metadata": {},
     "output_type": "execute_result"
    }
   ],
   "source": [
    "m_arr"
   ]
  },
  {
   "cell_type": "code",
   "execution_count": 18,
   "id": "15fb67c7",
   "metadata": {},
   "outputs": [
    {
     "data": {
      "text/plain": [
       "(2, 12)"
      ]
     },
     "execution_count": 18,
     "metadata": {},
     "output_type": "execute_result"
    }
   ],
   "source": [
    "m_arr.shape"
   ]
  },
  {
   "cell_type": "code",
   "execution_count": 19,
   "id": "e8edc4c4",
   "metadata": {},
   "outputs": [
    {
     "data": {
      "text/plain": [
       "24"
      ]
     },
     "execution_count": 19,
     "metadata": {},
     "output_type": "execute_result"
    }
   ],
   "source": [
    "m_arr.size"
   ]
  },
  {
   "cell_type": "code",
   "execution_count": 20,
   "id": "ecd376d8",
   "metadata": {},
   "outputs": [
    {
     "data": {
      "text/plain": [
       "2"
      ]
     },
     "execution_count": 20,
     "metadata": {},
     "output_type": "execute_result"
    }
   ],
   "source": [
    "m_arr.ndim"
   ]
  },
  {
   "cell_type": "code",
   "execution_count": 21,
   "id": "c0c6f887",
   "metadata": {},
   "outputs": [],
   "source": [
    "arr2 = np.arange(12)"
   ]
  },
  {
   "cell_type": "code",
   "execution_count": 22,
   "id": "b8e750f1",
   "metadata": {},
   "outputs": [
    {
     "data": {
      "text/plain": [
       "array([ 0,  1,  2,  3,  4,  5,  6,  7,  8,  9, 10, 11])"
      ]
     },
     "execution_count": 22,
     "metadata": {},
     "output_type": "execute_result"
    }
   ],
   "source": [
    "arr2"
   ]
  },
  {
   "cell_type": "code",
   "execution_count": 37,
   "id": "bdfc9b46",
   "metadata": {},
   "outputs": [],
   "source": [
    "# using reshape() to change the array from 1D to 2D\n",
    "#  can also be changed to higher Dimensions"
   ]
  },
  {
   "cell_type": "code",
   "execution_count": 23,
   "id": "9139cf4f",
   "metadata": {},
   "outputs": [
    {
     "data": {
      "text/plain": [
       "array([[ 0,  1,  2],\n",
       "       [ 3,  4,  5],\n",
       "       [ 6,  7,  8],\n",
       "       [ 9, 10, 11]])"
      ]
     },
     "execution_count": 23,
     "metadata": {},
     "output_type": "execute_result"
    }
   ],
   "source": [
    "arr2.reshape(4,3)"
   ]
  },
  {
   "cell_type": "code",
   "execution_count": 24,
   "id": "6f814519",
   "metadata": {},
   "outputs": [
    {
     "data": {
      "text/plain": [
       "array([[ 0,  1,  2,  3],\n",
       "       [ 4,  5,  6,  7],\n",
       "       [ 8,  9, 10, 11]])"
      ]
     },
     "execution_count": 24,
     "metadata": {},
     "output_type": "execute_result"
    }
   ],
   "source": [
    "arr2.reshape(3,4)"
   ]
  },
  {
   "cell_type": "code",
   "execution_count": 27,
   "id": "eda76959",
   "metadata": {},
   "outputs": [],
   "source": [
    "arr3 = np.linspace(1,12,15).reshape(3,5)"
   ]
  },
  {
   "cell_type": "code",
   "execution_count": 28,
   "id": "4bc390ae",
   "metadata": {},
   "outputs": [
    {
     "data": {
      "text/plain": [
       "array([[ 1.        ,  1.78571429,  2.57142857,  3.35714286,  4.14285714],\n",
       "       [ 4.92857143,  5.71428571,  6.5       ,  7.28571429,  8.07142857],\n",
       "       [ 8.85714286,  9.64285714, 10.42857143, 11.21428571, 12.        ]])"
      ]
     },
     "execution_count": 28,
     "metadata": {},
     "output_type": "execute_result"
    }
   ],
   "source": [
    "arr3"
   ]
  },
  {
   "cell_type": "code",
   "execution_count": 29,
   "id": "fb2e550f",
   "metadata": {},
   "outputs": [
    {
     "data": {
      "text/plain": [
       "(3, 5)"
      ]
     },
     "execution_count": 29,
     "metadata": {},
     "output_type": "execute_result"
    }
   ],
   "source": [
    "arr3.shape"
   ]
  },
  {
   "cell_type": "code",
   "execution_count": 30,
   "id": "a1210c0c",
   "metadata": {},
   "outputs": [
    {
     "data": {
      "text/plain": [
       "2"
      ]
     },
     "execution_count": 30,
     "metadata": {},
     "output_type": "execute_result"
    }
   ],
   "source": [
    "arr3.ndim"
   ]
  },
  {
   "cell_type": "code",
   "execution_count": 31,
   "id": "f3704b83",
   "metadata": {},
   "outputs": [
    {
     "data": {
      "text/plain": [
       "15"
      ]
     },
     "execution_count": 31,
     "metadata": {},
     "output_type": "execute_result"
    }
   ],
   "source": [
    "arr3.size"
   ]
  },
  {
   "cell_type": "code",
   "execution_count": null,
   "id": "f0ae0165",
   "metadata": {},
   "outputs": [],
   "source": [
    "# 1D will have one [] \n",
    "# 2d will have [[ ]]\n",
    "# 3d will have [[[ ]]]\n",
    "# thus by counting the opening square brackets we can clerly identify the Dimanesion of array"
   ]
  },
  {
   "cell_type": "code",
   "execution_count": 32,
   "id": "9b4b194b",
   "metadata": {},
   "outputs": [],
   "source": [
    "arr4 = np.arange(12)"
   ]
  },
  {
   "cell_type": "code",
   "execution_count": 33,
   "id": "537b4240",
   "metadata": {},
   "outputs": [
    {
     "data": {
      "text/plain": [
       "array([ 0,  1,  2,  3,  4,  5,  6,  7,  8,  9, 10, 11])"
      ]
     },
     "execution_count": 33,
     "metadata": {},
     "output_type": "execute_result"
    }
   ],
   "source": [
    "arr4"
   ]
  },
  {
   "cell_type": "code",
   "execution_count": 34,
   "id": "f52532af",
   "metadata": {},
   "outputs": [],
   "source": [
    "arr4 = np.arange(12).reshape(3,4)"
   ]
  },
  {
   "cell_type": "code",
   "execution_count": 35,
   "id": "787edcd1",
   "metadata": {},
   "outputs": [
    {
     "data": {
      "text/plain": [
       "array([[ 0,  1,  2,  3],\n",
       "       [ 4,  5,  6,  7],\n",
       "       [ 8,  9, 10, 11]])"
      ]
     },
     "execution_count": 35,
     "metadata": {},
     "output_type": "execute_result"
    }
   ],
   "source": [
    "arr4"
   ]
  },
  {
   "cell_type": "code",
   "execution_count": null,
   "id": "4f39cf48",
   "metadata": {},
   "outputs": [],
   "source": []
  }
 ],
 "metadata": {
  "kernelspec": {
   "display_name": "Python 3 (ipykernel)",
   "language": "python",
   "name": "python3"
  },
  "language_info": {
   "codemirror_mode": {
    "name": "ipython",
    "version": 3
   },
   "file_extension": ".py",
   "mimetype": "text/x-python",
   "name": "python",
   "nbconvert_exporter": "python",
   "pygments_lexer": "ipython3",
   "version": "3.10.5"
  }
 },
 "nbformat": 4,
 "nbformat_minor": 5
}
