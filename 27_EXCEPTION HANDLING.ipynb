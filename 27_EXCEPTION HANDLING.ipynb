{
 "cells": [
  {
   "cell_type": "markdown",
   "id": "21c3cab9",
   "metadata": {},
   "source": [
    "# EXCEPTION HANDLING"
   ]
  },
  {
   "cell_type": "code",
   "execution_count": 2,
   "id": "967ddf50",
   "metadata": {},
   "outputs": [
    {
     "name": "stdout",
     "output_type": "stream",
     "text": [
      "This is the last line\n",
      "E\n"
     ]
    },
    {
     "ename": "IndexError",
     "evalue": "string index out of range",
     "output_type": "error",
     "traceback": [
      "\u001b[1;31m---------------------------------------------------------------------------\u001b[0m",
      "\u001b[1;31mIndexError\u001b[0m                                Traceback (most recent call last)",
      "Input \u001b[1;32mIn [2]\u001b[0m, in \u001b[0;36m<cell line: 13>\u001b[1;34m()\u001b[0m\n\u001b[0;32m     11\u001b[0m name \u001b[38;5;241m=\u001b[39m \u001b[38;5;124m\"\u001b[39m\u001b[38;5;124mSURESH\u001b[39m\u001b[38;5;124m\"\u001b[39m\n\u001b[0;32m     12\u001b[0m \u001b[38;5;28mprint\u001b[39m(name[\u001b[38;5;241m3\u001b[39m])\n\u001b[1;32m---> 13\u001b[0m \u001b[38;5;28mprint\u001b[39m(\u001b[43mname\u001b[49m\u001b[43m[\u001b[49m\u001b[38;5;241;43m9\u001b[39;49m\u001b[43m]\u001b[49m)\n",
      "\u001b[1;31mIndexError\u001b[0m: string index out of range"
     ]
    }
   ],
   "source": [
    "#eg 1\n",
    "a = 100\n",
    "b = 200\n",
    "b = 0\n",
    "# c = a/b\n",
    "\n",
    "# print(c)\n",
    "print(\"This is the last line\")\n",
    "\n",
    "\n",
    "#eg 2\n",
    "name = \"SURESH\"\n",
    "print(name[3])\n",
    "print(name[9])"
   ]
  },
  {
   "cell_type": "code",
   "execution_count": 9,
   "id": "415905e3",
   "metadata": {},
   "outputs": [
    {
     "name": "stdout",
     "output_type": "stream",
     "text": [
      "Something went wrong. you have entered b = 0 ! correct the value\n",
      "This is the last line\n"
     ]
    }
   ],
   "source": [
    "# try:\n",
    "#     code trial\n",
    "# except:\n",
    "#     statement\n",
    "\n",
    "\n",
    "\n",
    "#eg 1\n",
    "a = 100\n",
    "\n",
    "\n",
    "try:\n",
    "    b = 0\n",
    "    c = a/b\n",
    "    print(c)\n",
    "except:\n",
    "    print(\"Something went wrong. you have entered b = 0 ! correct the value\")\n",
    "\n",
    "# print(c)\n",
    "print(\"This is the last line\")\n",
    "\n",
    "\n",
    "\n"
   ]
  },
  {
   "cell_type": "code",
   "execution_count": 36,
   "id": "bea97fa9",
   "metadata": {},
   "outputs": [
    {
     "name": "stdout",
     "output_type": "stream",
     "text": [
      "Choose proper range , max is 5\n",
      "This is the last line\n"
     ]
    }
   ],
   "source": [
    "# eg \n",
    "\n",
    "name = \"SURESH\"\n",
    "\n",
    "try:\n",
    "    print(name[10])\n",
    "except:\n",
    "    print(\"Choose proper range , max is 5\")\n",
    "    \n",
    "print(\"This is the last line\")\n",
    "\n",
    "\n"
   ]
  },
  {
   "cell_type": "code",
   "execution_count": null,
   "id": "7d4deb90",
   "metadata": {},
   "outputs": [],
   "source": []
  },
  {
   "cell_type": "code",
   "execution_count": 20,
   "id": "df253c90",
   "metadata": {},
   "outputs": [
    {
     "name": "stdout",
     "output_type": "stream",
     "text": [
      "1.0\n",
      "Somethhing went wrong\n"
     ]
    }
   ],
   "source": [
    "a = 100\n",
    "name = \"MAYUR\"\n",
    "\n",
    "try:\n",
    "    b = 100\n",
    "    c = a/b\n",
    "    print(c)\n",
    "    print(name[7])\n",
    "except:\n",
    "    print(\"Somethhing went wrong\")"
   ]
  },
  {
   "cell_type": "code",
   "execution_count": 27,
   "id": "26d06f9c",
   "metadata": {},
   "outputs": [
    {
     "name": "stdout",
     "output_type": "stream",
     "text": [
      "division by zero\n"
     ]
    }
   ],
   "source": [
    "a = 100\n",
    "name = \"MAYUR\"\n",
    "\n",
    "try:\n",
    "    b = 0\n",
    "    c = a/b\n",
    "    print(c)\n",
    "    print(name[1])\n",
    "except Exception as error:\n",
    "    print(error)"
   ]
  },
  {
   "cell_type": "code",
   "execution_count": 29,
   "id": "79ece092",
   "metadata": {},
   "outputs": [
    {
     "name": "stdout",
     "output_type": "stream",
     "text": [
      "1.0\n",
      "Some error occure string index out of range\n"
     ]
    }
   ],
   "source": [
    "a = 100\n",
    "name = \"MAYUR\"\n",
    "\n",
    "try:\n",
    "    b = 100\n",
    "    c = a/b\n",
    "    print(c)\n",
    "    print(name[11])\n",
    "# except Exception as error:\n",
    "except Exception as e:\n",
    "\n",
    "    print(\"Some error occure\", e)"
   ]
  },
  {
   "cell_type": "code",
   "execution_count": 33,
   "id": "5366f041",
   "metadata": {},
   "outputs": [
    {
     "name": "stdout",
     "output_type": "stream",
     "text": [
      "10.0\n",
      "Some error occure string index out of range\n"
     ]
    }
   ],
   "source": [
    "a = 100\n",
    "name = \"MAYUR\"\n",
    "\n",
    "try:\n",
    "    b = 10\n",
    "    c = a/b\n",
    "    print(c)\n",
    "    print(name[11])\n",
    "# except Exception as error:\n",
    "except Exception as e:\n",
    "    print(\"Some error occure\", e)\n",
    "except Exception as f:\n",
    "    print(\"Some error occure\", f)"
   ]
  },
  {
   "cell_type": "code",
   "execution_count": 37,
   "id": "e715646c",
   "metadata": {
    "scrolled": true
   },
   "outputs": [
    {
     "name": "stdout",
     "output_type": "stream",
     "text": [
      "10.0\n",
      "Some error occure string index out of range\n"
     ]
    }
   ],
   "source": [
    "a = 100\n",
    "name = \"MAYUR\"\n",
    "\n",
    "try:\n",
    "    b = 10\n",
    "    c = a/b\n",
    "    print(c)\n",
    "    print(name[11])\n",
    "# except Exception as error:\n",
    "except ZeroDivisionError as e:\n",
    "    print(\"Some error occure\", e)\n",
    "except IndexError as f:\n",
    "    print(\"Some error occure\", f)"
   ]
  },
  {
   "cell_type": "code",
   "execution_count": null,
   "id": "9b12a36e",
   "metadata": {},
   "outputs": [],
   "source": []
  },
  {
   "cell_type": "code",
   "execution_count": 45,
   "id": "1b8c5933",
   "metadata": {},
   "outputs": [
    {
     "name": "stdout",
     "output_type": "stream",
     "text": [
      "Some error occure division by zero\n",
      "This will always be executed\n"
     ]
    }
   ],
   "source": [
    "a = 100\n",
    "name = \"MAYUR\"\n",
    "\n",
    "try:\n",
    "    b = 0\n",
    "    c = a/b\n",
    "    print(c)\n",
    "    print(name[2])\n",
    "# except Exception as error:\n",
    "except ZeroDivisionError as e:\n",
    "    print(\"Some error occure\", e)\n",
    "except IndexError as f:\n",
    "    print(\"Some error occure\", f)\n",
    "else: #only getexecuted , if there is no error in the code\n",
    "    print(\"All codes excecuted successfully\")\n",
    "finally: # in all cases , this will get executed\n",
    "    print(\"This will always be executed\")\n",
    "    "
   ]
  },
  {
   "cell_type": "code",
   "execution_count": null,
   "id": "a1e403e8",
   "metadata": {},
   "outputs": [],
   "source": []
  },
  {
   "cell_type": "code",
   "execution_count": 11,
   "id": "36c97c0c",
   "metadata": {},
   "outputs": [
    {
     "data": {
      "text/plain": [
       "'\\nBaseException\\n +-- SystemExit\\n +-- KeyboardInterrupt\\n +-- GeneratorExit\\n +-- Exception\\n      +-- StopIteration\\n      +-- StopAsyncIteration\\n      +-- ArithmeticError\\n      |    +-- FloatingPointError\\n      |    +-- OverflowError\\n      |    +-- ZeroDivisionError\\n      +-- AssertionError\\n      +-- AttributeError\\n      +-- BufferError\\n      +-- EOFError\\n      +-- ImportError\\n      |    +-- ModuleNotFoundError\\n      +-- LookupError\\n      |    +-- IndexError\\n      |    +-- KeyError\\n      +-- MemoryError\\n      +-- NameError\\n      |    +-- UnboundLocalError\\n      +-- OSError\\n      |    +-- BlockingIOError\\n      |    +-- ChildProcessError\\n      |    +-- ConnectionError\\n      |    |    +-- BrokenPipeError\\n      |    |    +-- ConnectionAbortedError\\n      |    |    +-- ConnectionRefusedError\\n      |    |    +-- ConnectionResetError\\n      |    +-- FileExistsError\\n      |    +-- FileNotFoundError\\n      |    +-- InterruptedError\\n      |    +-- IsADirectoryError\\n      |    +-- NotADirectoryError\\n      |    +-- PermissionError\\n      |    +-- ProcessLookupError\\n      |    +-- TimeoutError\\n      +-- ReferenceError\\n      +-- RuntimeError\\n      |    +-- NotImplementedError\\n      |    +-- RecursionError\\n      +-- SyntaxError\\n      |    +-- IndentationError\\n      |         +-- TabError\\n      +-- SystemError\\n      +-- TypeError\\n      +-- ValueError\\n      |    +-- UnicodeError\\n      |         +-- UnicodeDecodeError\\n      |         +-- UnicodeEncodeError\\n      |         +-- UnicodeTranslateError\\n      +-- Warning\\n           +-- DeprecationWarning\\n           +-- PendingDeprecationWarning\\n           +-- RuntimeWarning\\n           +-- SyntaxWarning\\n           +-- UserWarning\\n           +-- FutureWarning\\n           +-- ImportWarning\\n           +-- UnicodeWarning\\n           +-- BytesWarning\\n           +-- EncodingWarning\\n           +-- ResourceWarning\\n'"
      ]
     },
     "execution_count": 11,
     "metadata": {},
     "output_type": "execute_result"
    }
   ],
   "source": [
    "\n",
    "'''\n",
    "BaseException\n",
    " +-- SystemExit\n",
    " +-- KeyboardInterrupt\n",
    " +-- GeneratorExit\n",
    " +-- Exception\n",
    "      +-- StopIteration\n",
    "      +-- StopAsyncIteration\n",
    "      +-- ArithmeticError\n",
    "      |    +-- FloatingPointError\n",
    "      |    +-- OverflowError\n",
    "      |    +-- ZeroDivisionError\n",
    "      +-- AssertionError\n",
    "      +-- AttributeError\n",
    "      +-- BufferError\n",
    "      +-- EOFError\n",
    "      +-- ImportError\n",
    "      |    +-- ModuleNotFoundError\n",
    "      +-- LookupError\n",
    "      |    +-- IndexError\n",
    "      |    +-- KeyError\n",
    "      +-- MemoryError\n",
    "      +-- NameError\n",
    "      |    +-- UnboundLocalError\n",
    "      +-- OSError\n",
    "      |    +-- BlockingIOError\n",
    "      |    +-- ChildProcessError\n",
    "      |    +-- ConnectionError\n",
    "      |    |    +-- BrokenPipeError\n",
    "      |    |    +-- ConnectionAbortedError\n",
    "      |    |    +-- ConnectionRefusedError\n",
    "      |    |    +-- ConnectionResetError\n",
    "      |    +-- FileExistsError\n",
    "      |    +-- FileNotFoundError\n",
    "      |    +-- InterruptedError\n",
    "      |    +-- IsADirectoryError\n",
    "      |    +-- NotADirectoryError\n",
    "      |    +-- PermissionError\n",
    "      |    +-- ProcessLookupError\n",
    "      |    +-- TimeoutError\n",
    "      +-- ReferenceError\n",
    "      +-- RuntimeError\n",
    "      |    +-- NotImplementedError\n",
    "      |    +-- RecursionError\n",
    "      +-- SyntaxError\n",
    "      |    +-- IndentationError\n",
    "      |         +-- TabError\n",
    "      +-- SystemError\n",
    "      +-- TypeError\n",
    "      +-- ValueError\n",
    "      |    +-- UnicodeError\n",
    "      |         +-- UnicodeDecodeError\n",
    "      |         +-- UnicodeEncodeError\n",
    "      |         +-- UnicodeTranslateError\n",
    "      +-- Warning\n",
    "           +-- DeprecationWarning\n",
    "           +-- PendingDeprecationWarning\n",
    "           +-- RuntimeWarning\n",
    "           +-- SyntaxWarning\n",
    "           +-- UserWarning\n",
    "           +-- FutureWarning\n",
    "           +-- ImportWarning\n",
    "           +-- UnicodeWarning\n",
    "           +-- BytesWarning\n",
    "           +-- EncodingWarning\n",
    "           +-- ResourceWarning\n",
    "'''\n"
   ]
  },
  {
   "cell_type": "markdown",
   "id": "89a5bd11",
   "metadata": {},
   "source": [
    "# user defined exception"
   ]
  },
  {
   "cell_type": "code",
   "execution_count": null,
   "id": "4da602fb",
   "metadata": {},
   "outputs": [],
   "source": []
  }
 ],
 "metadata": {
  "kernelspec": {
   "display_name": "Python 3 (ipykernel)",
   "language": "python",
   "name": "python3"
  },
  "language_info": {
   "codemirror_mode": {
    "name": "ipython",
    "version": 3
   },
   "file_extension": ".py",
   "mimetype": "text/x-python",
   "name": "python",
   "nbconvert_exporter": "python",
   "pygments_lexer": "ipython3",
   "version": "3.10.5"
  }
 },
 "nbformat": 4,
 "nbformat_minor": 5
}
