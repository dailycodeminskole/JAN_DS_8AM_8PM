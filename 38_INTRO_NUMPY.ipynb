{
 "cells": [
  {
   "cell_type": "code",
   "execution_count": 1,
   "id": "32d43e14",
   "metadata": {},
   "outputs": [],
   "source": [
    "# Numpy  is Numerical Python\n",
    "# Numpy deals with arrays\n",
    "# arrays ? ndim arrays ??"
   ]
  },
  {
   "cell_type": "markdown",
   "id": "64d4b5a5",
   "metadata": {},
   "source": [
    "# list vs Numpy"
   ]
  },
  {
   "cell_type": "code",
   "execution_count": 2,
   "id": "fb64d863",
   "metadata": {},
   "outputs": [
    {
     "data": {
      "text/plain": [
       "[1, 2, 3, 4, 5, 6, 7, 8, 9, 10]"
      ]
     },
     "execution_count": 2,
     "metadata": {},
     "output_type": "execute_result"
    }
   ],
   "source": [
    "a1 = [1,2,3,4,5,6,7,8,9,10]\n",
    "a1"
   ]
  },
  {
   "cell_type": "code",
   "execution_count": 3,
   "id": "2809ce36",
   "metadata": {},
   "outputs": [
    {
     "name": "stdout",
     "output_type": "stream",
     "text": [
      "1\n",
      "4\n",
      "9\n",
      "16\n",
      "25\n",
      "36\n",
      "49\n",
      "64\n",
      "81\n",
      "100\n"
     ]
    }
   ],
   "source": [
    "for i in a1:\n",
    "    print(i*i)"
   ]
  },
  {
   "cell_type": "code",
   "execution_count": 5,
   "id": "a8fe2173",
   "metadata": {},
   "outputs": [],
   "source": [
    "a2 = [i*i for i in a1  ]"
   ]
  },
  {
   "cell_type": "code",
   "execution_count": 6,
   "id": "e0919635",
   "metadata": {},
   "outputs": [
    {
     "name": "stdout",
     "output_type": "stream",
     "text": [
      "[1, 4, 9, 16, 25, 36, 49, 64, 81, 100]\n"
     ]
    }
   ],
   "source": [
    "print(a2)"
   ]
  },
  {
   "cell_type": "code",
   "execution_count": 7,
   "id": "ccecf089",
   "metadata": {
    "scrolled": false
   },
   "outputs": [
    {
     "data": {
      "text/plain": [
       "[1, 4, 9, 16, 25, 36, 49, 64, 81, 100]"
      ]
     },
     "execution_count": 7,
     "metadata": {},
     "output_type": "execute_result"
    }
   ],
   "source": [
    "a2"
   ]
  },
  {
   "cell_type": "code",
   "execution_count": 8,
   "id": "352a986a",
   "metadata": {},
   "outputs": [],
   "source": [
    "# using numpy to do the same operation \n",
    "# elementwise operation"
   ]
  },
  {
   "cell_type": "code",
   "execution_count": 21,
   "id": "63807448",
   "metadata": {},
   "outputs": [],
   "source": [
    "# a1 = [1,2,3,4,5,6,7,8,9,10]\n",
    "# a1*a1"
   ]
  },
  {
   "cell_type": "code",
   "execution_count": 12,
   "id": "cd7498d9",
   "metadata": {},
   "outputs": [],
   "source": [
    "import numpy as np"
   ]
  },
  {
   "cell_type": "code",
   "execution_count": 14,
   "id": "4b4a76aa",
   "metadata": {},
   "outputs": [],
   "source": [
    "arr1 = np.array(a1)"
   ]
  },
  {
   "cell_type": "code",
   "execution_count": 15,
   "id": "61265a45",
   "metadata": {},
   "outputs": [
    {
     "name": "stdout",
     "output_type": "stream",
     "text": [
      "[ 1  2  3  4  5  6  7  8  9 10]\n"
     ]
    }
   ],
   "source": [
    "print(arr1)"
   ]
  },
  {
   "cell_type": "code",
   "execution_count": 16,
   "id": "43912428",
   "metadata": {},
   "outputs": [
    {
     "name": "stdout",
     "output_type": "stream",
     "text": [
      "<class 'numpy.ndarray'>\n"
     ]
    }
   ],
   "source": [
    "print(type(arr1))"
   ]
  },
  {
   "cell_type": "code",
   "execution_count": 18,
   "id": "b882389e",
   "metadata": {},
   "outputs": [
    {
     "data": {
      "text/plain": [
       "array([  1,   4,   9,  16,  25,  36,  49,  64,  81, 100])"
      ]
     },
     "execution_count": 18,
     "metadata": {},
     "output_type": "execute_result"
    }
   ],
   "source": [
    "arr1**2 ## elementwise operation possible now "
   ]
  },
  {
   "cell_type": "code",
   "execution_count": 19,
   "id": "7b11fdbd",
   "metadata": {},
   "outputs": [
    {
     "data": {
      "text/plain": [
       "array([  1,   4,   9,  16,  25,  36,  49,  64,  81, 100])"
      ]
     },
     "execution_count": 19,
     "metadata": {},
     "output_type": "execute_result"
    }
   ],
   "source": [
    "arr1*arr1"
   ]
  },
  {
   "cell_type": "code",
   "execution_count": 22,
   "id": "334eb855",
   "metadata": {},
   "outputs": [
    {
     "data": {
      "text/plain": [
       "array([   1,    8,   27,   64,  125,  216,  343,  512,  729, 1000])"
      ]
     },
     "execution_count": 22,
     "metadata": {},
     "output_type": "execute_result"
    }
   ],
   "source": [
    "arr1*arr1*arr1"
   ]
  },
  {
   "cell_type": "markdown",
   "id": "325d5343",
   "metadata": {},
   "source": [
    "# faster operations"
   ]
  },
  {
   "cell_type": "code",
   "execution_count": 26,
   "id": "a63d0f09",
   "metadata": {},
   "outputs": [],
   "source": [
    "a1 = list(range(10000))"
   ]
  },
  {
   "cell_type": "code",
   "execution_count": 27,
   "id": "31a7d5b3",
   "metadata": {},
   "outputs": [],
   "source": [
    "ans = [i*i for i in a1  ]"
   ]
  },
  {
   "cell_type": "code",
   "execution_count": 36,
   "id": "50968465",
   "metadata": {},
   "outputs": [],
   "source": [
    "# print(ans)"
   ]
  },
  {
   "cell_type": "code",
   "execution_count": 30,
   "id": "9208c88f",
   "metadata": {},
   "outputs": [
    {
     "name": "stdout",
     "output_type": "stream",
     "text": [
      "746 µs ± 135 µs per loop (mean ± std. dev. of 7 runs, 1,000 loops each)\n"
     ]
    }
   ],
   "source": [
    "%timeit [i*i for i in a1  ]"
   ]
  },
  {
   "cell_type": "code",
   "execution_count": 32,
   "id": "970b2cf0",
   "metadata": {},
   "outputs": [],
   "source": [
    "# testing time execution for numpy"
   ]
  },
  {
   "cell_type": "code",
   "execution_count": 33,
   "id": "7bf2b2a1",
   "metadata": {},
   "outputs": [],
   "source": [
    "i = np.arange(10000)"
   ]
  },
  {
   "cell_type": "code",
   "execution_count": 34,
   "id": "7f679049",
   "metadata": {},
   "outputs": [
    {
     "name": "stdout",
     "output_type": "stream",
     "text": [
      "[   0    1    2 ... 9997 9998 9999]\n"
     ]
    }
   ],
   "source": [
    "print(i)"
   ]
  },
  {
   "cell_type": "code",
   "execution_count": 38,
   "id": "6ac4a1b4",
   "metadata": {},
   "outputs": [
    {
     "name": "stdout",
     "output_type": "stream",
     "text": [
      "10.4 µs ± 1.58 µs per loop (mean ± std. dev. of 7 runs, 100,000 loops each)\n"
     ]
    }
   ],
   "source": [
    "%timeit (i*i)"
   ]
  },
  {
   "cell_type": "code",
   "execution_count": 39,
   "id": "f5416f7d",
   "metadata": {},
   "outputs": [],
   "source": [
    "# revision\n",
    "arr2 = np.array([11,22,33,44,55,66])"
   ]
  },
  {
   "cell_type": "code",
   "execution_count": 41,
   "id": "24e2c0a6",
   "metadata": {},
   "outputs": [
    {
     "name": "stdout",
     "output_type": "stream",
     "text": [
      "<class 'numpy.ndarray'>\n"
     ]
    }
   ],
   "source": [
    "print(type(arr2))"
   ]
  },
  {
   "cell_type": "code",
   "execution_count": 43,
   "id": "45e04192",
   "metadata": {},
   "outputs": [
    {
     "data": {
      "text/plain": [
       "[0, 1, 2, 3, 4, 5, 6, 7, 8, 9]"
      ]
     },
     "execution_count": 43,
     "metadata": {},
     "output_type": "execute_result"
    }
   ],
   "source": [
    "list(range(10))"
   ]
  },
  {
   "cell_type": "code",
   "execution_count": 44,
   "id": "595161d6",
   "metadata": {},
   "outputs": [
    {
     "data": {
      "text/plain": [
       "array([0, 1, 2, 3, 4, 5, 6, 7, 8, 9])"
      ]
     },
     "execution_count": 44,
     "metadata": {},
     "output_type": "execute_result"
    }
   ],
   "source": [
    "np.arange(10)"
   ]
  },
  {
   "cell_type": "code",
   "execution_count": null,
   "id": "16addfb1",
   "metadata": {},
   "outputs": [],
   "source": []
  }
 ],
 "metadata": {
  "kernelspec": {
   "display_name": "Python 3 (ipykernel)",
   "language": "python",
   "name": "python3"
  },
  "language_info": {
   "codemirror_mode": {
    "name": "ipython",
    "version": 3
   },
   "file_extension": ".py",
   "mimetype": "text/x-python",
   "name": "python",
   "nbconvert_exporter": "python",
   "pygments_lexer": "ipython3",
   "version": "3.10.5"
  }
 },
 "nbformat": 4,
 "nbformat_minor": 5
}
