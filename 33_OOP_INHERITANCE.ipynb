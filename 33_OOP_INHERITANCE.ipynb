{
 "cells": [
  {
   "cell_type": "markdown",
   "id": "9ae4752a",
   "metadata": {},
   "source": [
    "# Inheritance"
   ]
  },
  {
   "cell_type": "code",
   "execution_count": 29,
   "id": "bb5e4bff",
   "metadata": {},
   "outputs": [],
   "source": [
    "# add more features to the accounts\n",
    "# limitint the numbe of TX to max 5\n",
    "\n",
    "class Account:\n",
    "    counter = 0\n",
    "    def __init__(self,openig_bal=0):\n",
    "        Account.counter =  Account.counter +1\n",
    "        self.id = Account.counter\n",
    "        self.bal = openig_bal\n",
    "        self.num_transactions = 0\n",
    "        self.max_transactions = 6\n",
    "        \n",
    "        \n",
    "    def deposit(self,amount):\n",
    "        if amount > 0 and self.num_transactions < self.max_transactions:\n",
    "            self.bal = self.bal+amount\n",
    "            self.num_transactions = self.num_transactions+1\n",
    "    def withdraw(self,amount):\n",
    "        if amount > 0 and self.bal>= amount  and self.num_transactions < self.max_transactions:\n",
    "            self.bal = self.bal - amount\n",
    "            self.num_transactions = self.num_transactions+1\n",
    "    def __str__(self):\n",
    "        return \"Ac Number : {} and Bal is Rs. : {} and No of TX : {}\".format(self.id,self.bal,self.num_transactions)\n",
    "class SavingsAccount(Account):\n",
    "    pass\n",
    "class CurrentAccount(Account):\n",
    "    pass\n",
    "sa1 = SavingsAccount()\n",
    "ca1 =  CurrentAccount()"
   ]
  },
  {
   "cell_type": "code",
   "execution_count": 10,
   "id": "b4c66543",
   "metadata": {},
   "outputs": [
    {
     "name": "stdout",
     "output_type": "stream",
     "text": [
      "Ac Number : 1 and Bal is Rs. : 700 and No of TX : 1\n"
     ]
    }
   ],
   "source": [
    "sa1.deposit(700)\n",
    "print(sa1)"
   ]
  },
  {
   "cell_type": "code",
   "execution_count": 11,
   "id": "538815ca",
   "metadata": {},
   "outputs": [
    {
     "name": "stdout",
     "output_type": "stream",
     "text": [
      "Ac Number : 1 and Bal is Rs. : 1400 and No of TX : 2\n"
     ]
    }
   ],
   "source": [
    "sa1.deposit(700)\n",
    "print(sa1)"
   ]
  },
  {
   "cell_type": "code",
   "execution_count": 12,
   "id": "54ec9899",
   "metadata": {},
   "outputs": [
    {
     "name": "stdout",
     "output_type": "stream",
     "text": [
      "Ac Number : 1 and Bal is Rs. : 2100 and No of TX : 3\n"
     ]
    }
   ],
   "source": [
    "sa1.deposit(700)\n",
    "print(sa1)"
   ]
  },
  {
   "cell_type": "code",
   "execution_count": 13,
   "id": "230bffe9",
   "metadata": {},
   "outputs": [
    {
     "name": "stdout",
     "output_type": "stream",
     "text": [
      "Ac Number : 1 and Bal is Rs. : 1400 and No of TX : 4\n"
     ]
    }
   ],
   "source": [
    "sa1.withdraw(700)\n",
    "print(sa1)"
   ]
  },
  {
   "cell_type": "code",
   "execution_count": 14,
   "id": "35c6f418",
   "metadata": {},
   "outputs": [
    {
     "name": "stdout",
     "output_type": "stream",
     "text": [
      "Ac Number : 1 and Bal is Rs. : 2100 and No of TX : 5\n"
     ]
    }
   ],
   "source": [
    "sa1.deposit(700)\n",
    "print(sa1)"
   ]
  },
  {
   "cell_type": "code",
   "execution_count": 15,
   "id": "8a2ecb46",
   "metadata": {},
   "outputs": [
    {
     "name": "stdout",
     "output_type": "stream",
     "text": [
      "Ac Number : 1 and Bal is Rs. : 2800 and No of TX : 6\n"
     ]
    }
   ],
   "source": [
    "sa1.deposit(700)\n",
    "print(sa1)"
   ]
  },
  {
   "cell_type": "code",
   "execution_count": 16,
   "id": "e17eafb5",
   "metadata": {},
   "outputs": [
    {
     "name": "stdout",
     "output_type": "stream",
     "text": [
      "Ac Number : 1 and Bal is Rs. : 2800 and No of TX : 6\n"
     ]
    }
   ],
   "source": [
    "sa1.deposit(700)\n",
    "print(sa1)"
   ]
  },
  {
   "cell_type": "code",
   "execution_count": 17,
   "id": "e847b7ad",
   "metadata": {},
   "outputs": [
    {
     "name": "stdout",
     "output_type": "stream",
     "text": [
      "Ac Number : 1 and Bal is Rs. : 2800 and No of TX : 6\n"
     ]
    }
   ],
   "source": [
    "sa1.withdraw(700)\n",
    "print(sa1)"
   ]
  },
  {
   "cell_type": "code",
   "execution_count": 25,
   "id": "68359730",
   "metadata": {},
   "outputs": [
    {
     "name": "stdout",
     "output_type": "stream",
     "text": [
      "Ac Number : 2 and Bal is Rs. : 30000 and No of TX : 6\n"
     ]
    }
   ],
   "source": [
    "ca1.deposit(5000)\n",
    "print(ca1)"
   ]
  },
  {
   "cell_type": "code",
   "execution_count": 30,
   "id": "d669aeb8",
   "metadata": {},
   "outputs": [],
   "source": [
    "# changing no of max trx for current account"
   ]
  },
  {
   "cell_type": "code",
   "execution_count": 51,
   "id": "91b9190f",
   "metadata": {},
   "outputs": [],
   "source": [
    "\n",
    "\n",
    "class Account:\n",
    "    counter = 0\n",
    "    def __init__(self,openig_bal=0):\n",
    "        Account.counter =  Account.counter +1\n",
    "        self.id = Account.counter\n",
    "        self.bal = openig_bal\n",
    "        self.num_transactions = 0\n",
    "        self.max_transactions = 6\n",
    "        \n",
    "        \n",
    "    def deposit(self,amount):\n",
    "        if amount > 0 and self.num_transactions < self.max_transactions:\n",
    "            self.bal = self.bal+amount\n",
    "            self.num_transactions = self.num_transactions+1\n",
    "    def withdraw(self,amount):\n",
    "        if amount > 0 and self.bal>= amount  and self.num_transactions < self.max_transactions:\n",
    "            self.bal = self.bal - amount\n",
    "            self.num_transactions = self.num_transactions+1\n",
    "    def __str__(self):\n",
    "        return \"Ac Number : {} and Bal is Rs. : {} and No of TX : {}\".format(self.id,self.bal,self.num_transactions)\n",
    "class SavingsAccount(Account):\n",
    "    pass\n",
    "class CurrentAccount(Account):\n",
    "    def __init__(self):\n",
    "        super().__init__(self)\n",
    "        self.max_transactions = 3\n",
    "sa1 = SavingsAccount()\n",
    "ca1 =  CurrentAccount()"
   ]
  },
  {
   "cell_type": "code",
   "execution_count": 38,
   "id": "d092cdc2",
   "metadata": {},
   "outputs": [
    {
     "name": "stdout",
     "output_type": "stream",
     "text": [
      "Ac Number : 2 and Bal is Rs. : 900 and No of TX : 1\n"
     ]
    }
   ],
   "source": [
    "ca1.deposit(900)\n",
    "print(ca1)"
   ]
  },
  {
   "cell_type": "code",
   "execution_count": 39,
   "id": "05227dc6",
   "metadata": {},
   "outputs": [
    {
     "name": "stdout",
     "output_type": "stream",
     "text": [
      "Ac Number : 2 and Bal is Rs. : 1800 and No of TX : 2\n"
     ]
    }
   ],
   "source": [
    "ca1.deposit(900)\n",
    "print(ca1)"
   ]
  },
  {
   "cell_type": "code",
   "execution_count": 40,
   "id": "b3ea94af",
   "metadata": {},
   "outputs": [
    {
     "name": "stdout",
     "output_type": "stream",
     "text": [
      "Ac Number : 2 and Bal is Rs. : 900 and No of TX : 3\n"
     ]
    }
   ],
   "source": [
    "ca1.withdraw(900)\n",
    "print(ca1)"
   ]
  },
  {
   "cell_type": "code",
   "execution_count": 41,
   "id": "1fdb3878",
   "metadata": {},
   "outputs": [
    {
     "name": "stdout",
     "output_type": "stream",
     "text": [
      "Ac Number : 2 and Bal is Rs. : 900 and No of TX : 3\n"
     ]
    }
   ],
   "source": [
    "ca1.deposit(900)\n",
    "print(ca1)"
   ]
  },
  {
   "cell_type": "code",
   "execution_count": 48,
   "id": "ae7875cb",
   "metadata": {},
   "outputs": [
    {
     "name": "stdout",
     "output_type": "stream",
     "text": [
      "Ac Number : 1 and Bal is Rs. : 1200 and No of TX : 6\n"
     ]
    }
   ],
   "source": [
    "sa1.deposit(200)\n",
    "print(sa1)"
   ]
  },
  {
   "cell_type": "code",
   "execution_count": 52,
   "id": "56658eba",
   "metadata": {},
   "outputs": [
    {
     "data": {
      "text/plain": [
       "mappingproxy({'__module__': '__main__',\n",
       "              'counter': 2,\n",
       "              '__init__': <function __main__.Account.__init__(self, openig_bal=0)>,\n",
       "              'deposit': <function __main__.Account.deposit(self, amount)>,\n",
       "              'withdraw': <function __main__.Account.withdraw(self, amount)>,\n",
       "              '__str__': <function __main__.Account.__str__(self)>,\n",
       "              '__dict__': <attribute '__dict__' of 'Account' objects>,\n",
       "              '__weakref__': <attribute '__weakref__' of 'Account' objects>,\n",
       "              '__doc__': None})"
      ]
     },
     "execution_count": 52,
     "metadata": {},
     "output_type": "execute_result"
    }
   ],
   "source": [
    "# checking attributes and methods in a class\n",
    "Account.__dict__"
   ]
  },
  {
   "cell_type": "code",
   "execution_count": null,
   "id": "54ad1224",
   "metadata": {},
   "outputs": [],
   "source": []
  }
 ],
 "metadata": {
  "kernelspec": {
   "display_name": "Python 3 (ipykernel)",
   "language": "python",
   "name": "python3"
  },
  "language_info": {
   "codemirror_mode": {
    "name": "ipython",
    "version": 3
   },
   "file_extension": ".py",
   "mimetype": "text/x-python",
   "name": "python",
   "nbconvert_exporter": "python",
   "pygments_lexer": "ipython3",
   "version": "3.10.5"
  }
 },
 "nbformat": 4,
 "nbformat_minor": 5
}
