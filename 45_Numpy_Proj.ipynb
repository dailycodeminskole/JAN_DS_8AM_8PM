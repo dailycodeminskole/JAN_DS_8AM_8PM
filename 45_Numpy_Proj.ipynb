{
 "cells": [
  {
   "cell_type": "code",
   "execution_count": 1,
   "id": "bd5c9cd3",
   "metadata": {},
   "outputs": [],
   "source": [
    "import numpy as np"
   ]
  },
  {
   "cell_type": "code",
   "execution_count": 6,
   "id": "fb7367cd",
   "metadata": {},
   "outputs": [],
   "source": [
    "data = np.loadtxt('fitbit.txt',dtype='str')"
   ]
  },
  {
   "cell_type": "code",
   "execution_count": 7,
   "id": "e78cd941",
   "metadata": {},
   "outputs": [
    {
     "data": {
      "text/plain": [
       "array([['06-10-2017', '5464', '200', '181', '6', '0', '68'],\n",
       "       ['07-10-2017', '7167', '200', '208', '6', '0', '68'],\n",
       "       ['08-10-2017', '9874', '300', '341', '5', '0', '68'],\n",
       "       ['09-10-2017', '4969', '100', '190', '8', '0', '68'],\n",
       "       ['10-10-2017', '8538', '300', '307', '5', '0', '68'],\n",
       "       ['11-10-2017', '9875', '300', '302', '5', '0', '68'],\n",
       "       ['12-10-2017', '4662', '100', '198', '8', '0', '68'],\n",
       "       ['13-10-2017', '6310', '200', '201', '6', '0', '68'],\n",
       "       ['14-10-2017', '7556', '200', '195', '6', '0', '68'],\n",
       "       ['15-10-2017', '9073', '300', '327', '5', '0', '68'],\n",
       "       ['16-10-2017', '9690', '300', '331', '5', '0', '68'],\n",
       "       ['17-10-2017', '9146', '300', '318', '5', '0', '68'],\n",
       "       ['18-10-2017', '9752', '300', '344', '5', '0', '68'],\n",
       "       ['19-10-2017', '6974', '200', '204', '6', '0', '68'],\n",
       "       ['20-10-2017', '5619', '200', '180', '6', '0', '68'],\n",
       "       ['21-10-2017', '6889', '200', '201', '6', '0', '68'],\n",
       "       ['22-10-2017', '8616', '300', '329', '5', '0', '68'],\n",
       "       ['23-10-2017', '9131', '300', '315', '5', '0', '68'],\n",
       "       ['24-10-2017', '4211', '100', '197', '8', '0', '68'],\n",
       "       ['25-10-2017', '4291', '100', '184', '8', '0', '68'],\n",
       "       ['26-10-2017', '8569', '300', '328', '5', '0', '68'],\n",
       "       ['27-10-2017', '9337', '300', '322', '5', '0', '68'],\n",
       "       ['28-10-2017', '8475', '300', '327', '5', '0', '68'],\n",
       "       ['29-10-2017', '4510', '100', '148', '8', '0', '68'],\n",
       "       ['30-10-2017', '6347', '200', '235', '6', '0', '68'],\n",
       "       ['31-10-2017', '5911', '200', '184', '6', '0', '68']], dtype='<U10')"
      ]
     },
     "execution_count": 7,
     "metadata": {},
     "output_type": "execute_result"
    }
   ],
   "source": [
    "data"
   ]
  },
  {
   "cell_type": "code",
   "execution_count": 8,
   "id": "b3ab201c",
   "metadata": {},
   "outputs": [
    {
     "name": "stdout",
     "output_type": "stream",
     "text": [
      "<class 'numpy.ndarray'>\n"
     ]
    }
   ],
   "source": [
    "print(type(data))"
   ]
  },
  {
   "cell_type": "code",
   "execution_count": 9,
   "id": "8c304196",
   "metadata": {},
   "outputs": [
    {
     "data": {
      "text/plain": [
       "(26, 7)"
      ]
     },
     "execution_count": 9,
     "metadata": {},
     "output_type": "execute_result"
    }
   ],
   "source": [
    "data.shape"
   ]
  },
  {
   "cell_type": "code",
   "execution_count": 10,
   "id": "708062b4",
   "metadata": {},
   "outputs": [
    {
     "data": {
      "text/plain": [
       "array(['06-10-2017', '5464', '200', '181', '6', '0', '68'], dtype='<U10')"
      ]
     },
     "execution_count": 10,
     "metadata": {},
     "output_type": "execute_result"
    }
   ],
   "source": [
    "data[0]"
   ]
  },
  {
   "cell_type": "code",
   "execution_count": 11,
   "id": "cf7fba12",
   "metadata": {},
   "outputs": [
    {
     "data": {
      "text/plain": [
       "array(['07-10-2017', '7167', '200', '208', '6', '0', '68'], dtype='<U10')"
      ]
     },
     "execution_count": 11,
     "metadata": {},
     "output_type": "execute_result"
    }
   ],
   "source": [
    "data[1]"
   ]
  },
  {
   "cell_type": "markdown",
   "id": "ab8da3fd",
   "metadata": {},
   "source": [
    "# Data cleaning"
   ]
  },
  {
   "cell_type": "code",
   "execution_count": 12,
   "id": "5c7eb534",
   "metadata": {},
   "outputs": [],
   "source": [
    "# data has no header\n",
    "# data is in the form of string , cant be numerically compared"
   ]
  },
  {
   "cell_type": "code",
   "execution_count": 13,
   "id": "ba752f89",
   "metadata": {},
   "outputs": [
    {
     "data": {
      "text/plain": [
       "array([['06-10-2017', '07-10-2017', '08-10-2017', '09-10-2017',\n",
       "        '10-10-2017', '11-10-2017', '12-10-2017', '13-10-2017',\n",
       "        '14-10-2017', '15-10-2017', '16-10-2017', '17-10-2017',\n",
       "        '18-10-2017', '19-10-2017', '20-10-2017', '21-10-2017',\n",
       "        '22-10-2017', '23-10-2017', '24-10-2017', '25-10-2017',\n",
       "        '26-10-2017', '27-10-2017', '28-10-2017', '29-10-2017',\n",
       "        '30-10-2017', '31-10-2017'],\n",
       "       ['5464', '7167', '9874', '4969', '8538', '9875', '4662', '6310',\n",
       "        '7556', '9073', '9690', '9146', '9752', '6974', '5619', '6889',\n",
       "        '8616', '9131', '4211', '4291', '8569', '9337', '8475', '4510',\n",
       "        '6347', '5911'],\n",
       "       ['200', '200', '300', '100', '300', '300', '100', '200', '200',\n",
       "        '300', '300', '300', '300', '200', '200', '200', '300', '300',\n",
       "        '100', '100', '300', '300', '300', '100', '200', '200'],\n",
       "       ['181', '208', '341', '190', '307', '302', '198', '201', '195',\n",
       "        '327', '331', '318', '344', '204', '180', '201', '329', '315',\n",
       "        '197', '184', '328', '322', '327', '148', '235', '184'],\n",
       "       ['6', '6', '5', '8', '5', '5', '8', '6', '6', '5', '5', '5', '5',\n",
       "        '6', '6', '6', '5', '5', '8', '8', '5', '5', '5', '8', '6', '6'],\n",
       "       ['0', '0', '0', '0', '0', '0', '0', '0', '0', '0', '0', '0', '0',\n",
       "        '0', '0', '0', '0', '0', '0', '0', '0', '0', '0', '0', '0', '0'],\n",
       "       ['68', '68', '68', '68', '68', '68', '68', '68', '68', '68', '68',\n",
       "        '68', '68', '68', '68', '68', '68', '68', '68', '68', '68', '68',\n",
       "        '68', '68', '68', '68']], dtype='<U10')"
      ]
     },
     "execution_count": 13,
     "metadata": {},
     "output_type": "execute_result"
    }
   ],
   "source": [
    "data.T"
   ]
  },
  {
   "cell_type": "code",
   "execution_count": 14,
   "id": "91970dfc",
   "metadata": {},
   "outputs": [],
   "source": [
    "date ,step_count,mood,calories_burned,hours_of_sleep,bool_of_active,weight_kg = data.T"
   ]
  },
  {
   "cell_type": "code",
   "execution_count": 15,
   "id": "edea4cb6",
   "metadata": {},
   "outputs": [
    {
     "data": {
      "text/plain": [
       "array(['06-10-2017', '07-10-2017', '08-10-2017', '09-10-2017',\n",
       "       '10-10-2017', '11-10-2017', '12-10-2017', '13-10-2017',\n",
       "       '14-10-2017', '15-10-2017', '16-10-2017', '17-10-2017',\n",
       "       '18-10-2017', '19-10-2017', '20-10-2017', '21-10-2017',\n",
       "       '22-10-2017', '23-10-2017', '24-10-2017', '25-10-2017',\n",
       "       '26-10-2017', '27-10-2017', '28-10-2017', '29-10-2017',\n",
       "       '30-10-2017', '31-10-2017'], dtype='<U10')"
      ]
     },
     "execution_count": 15,
     "metadata": {},
     "output_type": "execute_result"
    }
   ],
   "source": [
    "date"
   ]
  },
  {
   "cell_type": "code",
   "execution_count": 16,
   "id": "ab836571",
   "metadata": {},
   "outputs": [
    {
     "data": {
      "text/plain": [
       "array(['5464', '7167', '9874', '4969', '8538', '9875', '4662', '6310',\n",
       "       '7556', '9073', '9690', '9146', '9752', '6974', '5619', '6889',\n",
       "       '8616', '9131', '4211', '4291', '8569', '9337', '8475', '4510',\n",
       "       '6347', '5911'], dtype='<U10')"
      ]
     },
     "execution_count": 16,
     "metadata": {},
     "output_type": "execute_result"
    }
   ],
   "source": [
    "step_count"
   ]
  },
  {
   "cell_type": "code",
   "execution_count": 17,
   "id": "de6c4c0f",
   "metadata": {},
   "outputs": [],
   "source": [
    "# changing the string data type to 'int'"
   ]
  },
  {
   "cell_type": "code",
   "execution_count": 18,
   "id": "bde0b19d",
   "metadata": {},
   "outputs": [
    {
     "data": {
      "text/plain": [
       "dtype('<U10')"
      ]
     },
     "execution_count": 18,
     "metadata": {},
     "output_type": "execute_result"
    }
   ],
   "source": [
    "step_count.dtype"
   ]
  },
  {
   "cell_type": "code",
   "execution_count": 21,
   "id": "615f0191",
   "metadata": {},
   "outputs": [],
   "source": [
    "step_count = np.array(step_count,dtype='int')"
   ]
  },
  {
   "cell_type": "code",
   "execution_count": null,
   "id": "c5d86610",
   "metadata": {},
   "outputs": [],
   "source": []
  },
  {
   "cell_type": "code",
   "execution_count": 22,
   "id": "060c878c",
   "metadata": {},
   "outputs": [],
   "source": [
    "calories_burned = np.array(calories_burned,dtype='int')\n",
    "hours_of_sleep = np.array(hours_of_sleep,dtype='int')\n",
    "weight_kg  = np.array(weight_kg,dtype='int')"
   ]
  },
  {
   "cell_type": "code",
   "execution_count": 20,
   "id": "b47689bc",
   "metadata": {
    "scrolled": false
   },
   "outputs": [
    {
     "data": {
      "text/plain": [
       "array([5464, 7167, 9874, 4969, 8538, 9875, 4662, 6310, 7556, 9073, 9690,\n",
       "       9146, 9752, 6974, 5619, 6889, 8616, 9131, 4211, 4291, 8569, 9337,\n",
       "       8475, 4510, 6347, 5911])"
      ]
     },
     "execution_count": 20,
     "metadata": {},
     "output_type": "execute_result"
    }
   ],
   "source": [
    "step_count"
   ]
  },
  {
   "cell_type": "code",
   "execution_count": 23,
   "id": "e9d54949",
   "metadata": {},
   "outputs": [
    {
     "data": {
      "text/plain": [
       "array([68, 68, 68, 68, 68, 68, 68, 68, 68, 68, 68, 68, 68, 68, 68, 68, 68,\n",
       "       68, 68, 68, 68, 68, 68, 68, 68, 68])"
      ]
     },
     "execution_count": 23,
     "metadata": {},
     "output_type": "execute_result"
    }
   ],
   "source": [
    "weight_kg"
   ]
  },
  {
   "cell_type": "code",
   "execution_count": 25,
   "id": "d956d262",
   "metadata": {},
   "outputs": [
    {
     "data": {
      "text/plain": [
       "dtype('int32')"
      ]
     },
     "execution_count": 25,
     "metadata": {},
     "output_type": "execute_result"
    }
   ],
   "source": [
    "calories_burned.dtype"
   ]
  },
  {
   "cell_type": "code",
   "execution_count": 26,
   "id": "a98f2ae9",
   "metadata": {},
   "outputs": [
    {
     "data": {
      "text/plain": [
       "array(['200', '200', '300', '100', '300', '300', '100', '200', '200',\n",
       "       '300', '300', '300', '300', '200', '200', '200', '300', '300',\n",
       "       '100', '100', '300', '300', '300', '100', '200', '200'],\n",
       "      dtype='<U10')"
      ]
     },
     "execution_count": 26,
     "metadata": {},
     "output_type": "execute_result"
    }
   ],
   "source": [
    "mood"
   ]
  },
  {
   "cell_type": "code",
   "execution_count": 27,
   "id": "81051240",
   "metadata": {},
   "outputs": [
    {
     "data": {
      "text/plain": [
       "array(['100', '200', '300'], dtype='<U10')"
      ]
     },
     "execution_count": 27,
     "metadata": {},
     "output_type": "execute_result"
    }
   ],
   "source": [
    "np.unique(mood) #this is not a numerical data but is a categorical data "
   ]
  },
  {
   "cell_type": "code",
   "execution_count": 28,
   "id": "1be5174b",
   "metadata": {},
   "outputs": [],
   "source": [
    "# 100 = sad\n",
    "# 200 =  neutral\n",
    "# 300 = happy"
   ]
  },
  {
   "cell_type": "code",
   "execution_count": 30,
   "id": "f1b2619e",
   "metadata": {
    "scrolled": true
   },
   "outputs": [
    {
     "data": {
      "text/plain": [
       "array([False, False, False,  True, False, False,  True, False, False,\n",
       "       False, False, False, False, False, False, False, False, False,\n",
       "        True,  True, False, False, False,  True, False, False])"
      ]
     },
     "execution_count": 30,
     "metadata": {},
     "output_type": "execute_result"
    }
   ],
   "source": [
    "mood == '100'"
   ]
  },
  {
   "cell_type": "code",
   "execution_count": 36,
   "id": "02daf5c8",
   "metadata": {},
   "outputs": [],
   "source": [
    "mood[mood == '100'] = 'sad'"
   ]
  },
  {
   "cell_type": "code",
   "execution_count": 31,
   "id": "992ffd1f",
   "metadata": {},
   "outputs": [
    {
     "data": {
      "text/plain": [
       "array([ True,  True, False, False, False, False, False,  True,  True,\n",
       "       False, False, False, False,  True,  True,  True, False, False,\n",
       "       False, False, False, False, False, False,  True,  True])"
      ]
     },
     "execution_count": 31,
     "metadata": {},
     "output_type": "execute_result"
    }
   ],
   "source": [
    "mood == '200'"
   ]
  },
  {
   "cell_type": "code",
   "execution_count": 38,
   "id": "dd16d656",
   "metadata": {},
   "outputs": [],
   "source": [
    "mood[mood == '200'] ='neutral'"
   ]
  },
  {
   "cell_type": "code",
   "execution_count": 32,
   "id": "70a40c8c",
   "metadata": {},
   "outputs": [
    {
     "data": {
      "text/plain": [
       "array([False, False,  True, False,  True,  True, False, False, False,\n",
       "        True,  True,  True,  True, False, False, False,  True,  True,\n",
       "       False, False,  True,  True,  True, False, False, False])"
      ]
     },
     "execution_count": 32,
     "metadata": {},
     "output_type": "execute_result"
    }
   ],
   "source": [
    "mood == '300'"
   ]
  },
  {
   "cell_type": "code",
   "execution_count": 39,
   "id": "74a3f277",
   "metadata": {},
   "outputs": [],
   "source": [
    "mood[mood == '300'] = 'hapyy'"
   ]
  },
  {
   "cell_type": "code",
   "execution_count": 40,
   "id": "a136c3e0",
   "metadata": {},
   "outputs": [
    {
     "data": {
      "text/plain": [
       "array(['neutral', 'neutral', 'hapyy', 'sad', 'hapyy', 'hapyy', 'sad',\n",
       "       'neutral', 'neutral', 'hapyy', 'hapyy', 'hapyy', 'hapyy',\n",
       "       'neutral', 'neutral', 'neutral', 'hapyy', 'hapyy', 'sad', 'sad',\n",
       "       'hapyy', 'hapyy', 'hapyy', 'sad', 'neutral', 'neutral'],\n",
       "      dtype='<U10')"
      ]
     },
     "execution_count": 40,
     "metadata": {},
     "output_type": "execute_result"
    }
   ],
   "source": [
    "mood"
   ]
  },
  {
   "cell_type": "markdown",
   "id": "a0b80c40",
   "metadata": {},
   "source": [
    "# data Analysing"
   ]
  },
  {
   "cell_type": "code",
   "execution_count": 41,
   "id": "5802240b",
   "metadata": {},
   "outputs": [
    {
     "data": {
      "text/plain": [
       "array([['06-10-2017', '5464', 'neutral', '181', '6', '0', '68'],\n",
       "       ['07-10-2017', '7167', 'neutral', '208', '6', '0', '68'],\n",
       "       ['08-10-2017', '9874', 'hapyy', '341', '5', '0', '68'],\n",
       "       ['09-10-2017', '4969', 'sad', '190', '8', '0', '68'],\n",
       "       ['10-10-2017', '8538', 'hapyy', '307', '5', '0', '68'],\n",
       "       ['11-10-2017', '9875', 'hapyy', '302', '5', '0', '68'],\n",
       "       ['12-10-2017', '4662', 'sad', '198', '8', '0', '68'],\n",
       "       ['13-10-2017', '6310', 'neutral', '201', '6', '0', '68'],\n",
       "       ['14-10-2017', '7556', 'neutral', '195', '6', '0', '68'],\n",
       "       ['15-10-2017', '9073', 'hapyy', '327', '5', '0', '68'],\n",
       "       ['16-10-2017', '9690', 'hapyy', '331', '5', '0', '68'],\n",
       "       ['17-10-2017', '9146', 'hapyy', '318', '5', '0', '68'],\n",
       "       ['18-10-2017', '9752', 'hapyy', '344', '5', '0', '68'],\n",
       "       ['19-10-2017', '6974', 'neutral', '204', '6', '0', '68'],\n",
       "       ['20-10-2017', '5619', 'neutral', '180', '6', '0', '68'],\n",
       "       ['21-10-2017', '6889', 'neutral', '201', '6', '0', '68'],\n",
       "       ['22-10-2017', '8616', 'hapyy', '329', '5', '0', '68'],\n",
       "       ['23-10-2017', '9131', 'hapyy', '315', '5', '0', '68'],\n",
       "       ['24-10-2017', '4211', 'sad', '197', '8', '0', '68'],\n",
       "       ['25-10-2017', '4291', 'sad', '184', '8', '0', '68'],\n",
       "       ['26-10-2017', '8569', 'hapyy', '328', '5', '0', '68'],\n",
       "       ['27-10-2017', '9337', 'hapyy', '322', '5', '0', '68'],\n",
       "       ['28-10-2017', '8475', 'hapyy', '327', '5', '0', '68'],\n",
       "       ['29-10-2017', '4510', 'sad', '148', '8', '0', '68'],\n",
       "       ['30-10-2017', '6347', 'neutral', '235', '6', '0', '68'],\n",
       "       ['31-10-2017', '5911', 'neutral', '184', '6', '0', '68']],\n",
       "      dtype='<U10')"
      ]
     },
     "execution_count": 41,
     "metadata": {},
     "output_type": "execute_result"
    }
   ],
   "source": [
    "data"
   ]
  },
  {
   "cell_type": "code",
   "execution_count": 42,
   "id": "0a72e7b8",
   "metadata": {},
   "outputs": [],
   "source": [
    "# max steps count"
   ]
  },
  {
   "cell_type": "code",
   "execution_count": 44,
   "id": "84a2571f",
   "metadata": {},
   "outputs": [
    {
     "data": {
      "text/plain": [
       "9875"
      ]
     },
     "execution_count": 44,
     "metadata": {},
     "output_type": "execute_result"
    }
   ],
   "source": [
    "np.max(step_count)"
   ]
  },
  {
   "cell_type": "code",
   "execution_count": 45,
   "id": "8b524f04",
   "metadata": {},
   "outputs": [
    {
     "data": {
      "text/plain": [
       "7344.461538461538"
      ]
     },
     "execution_count": 45,
     "metadata": {},
     "output_type": "execute_result"
    }
   ],
   "source": [
    "np.mean(step_count)"
   ]
  },
  {
   "cell_type": "code",
   "execution_count": 46,
   "id": "63869b62",
   "metadata": {},
   "outputs": [
    {
     "data": {
      "text/plain": [
       "5"
      ]
     },
     "execution_count": 46,
     "metadata": {},
     "output_type": "execute_result"
    }
   ],
   "source": [
    "np.argmax(step_count)"
   ]
  },
  {
   "cell_type": "code",
   "execution_count": 47,
   "id": "caa9727d",
   "metadata": {},
   "outputs": [],
   "source": [
    "# data on which max steps done"
   ]
  },
  {
   "cell_type": "code",
   "execution_count": 48,
   "id": "f126ef5f",
   "metadata": {},
   "outputs": [
    {
     "data": {
      "text/plain": [
       "'11-10-2017'"
      ]
     },
     "execution_count": 48,
     "metadata": {},
     "output_type": "execute_result"
    }
   ],
   "source": [
    "date[5]"
   ]
  },
  {
   "cell_type": "code",
   "execution_count": 51,
   "id": "8bed3ffa",
   "metadata": {},
   "outputs": [],
   "source": [
    "# feq of mood"
   ]
  },
  {
   "cell_type": "code",
   "execution_count": 52,
   "id": "71dfb7af",
   "metadata": {},
   "outputs": [
    {
     "data": {
      "text/plain": [
       "5"
      ]
     },
     "execution_count": 52,
     "metadata": {},
     "output_type": "execute_result"
    }
   ],
   "source": [
    "len(mood[mood == 'sad'])"
   ]
  },
  {
   "cell_type": "code",
   "execution_count": 53,
   "id": "cd8d327c",
   "metadata": {},
   "outputs": [
    {
     "data": {
      "text/plain": [
       "9"
      ]
     },
     "execution_count": 53,
     "metadata": {},
     "output_type": "execute_result"
    }
   ],
   "source": [
    "len(mood[mood == 'neutral'])"
   ]
  },
  {
   "cell_type": "code",
   "execution_count": 55,
   "id": "7449fc7f",
   "metadata": {},
   "outputs": [
    {
     "data": {
      "text/plain": [
       "12"
      ]
     },
     "execution_count": 55,
     "metadata": {},
     "output_type": "execute_result"
    }
   ],
   "source": [
    "len(mood[mood == 'hapyy'])"
   ]
  },
  {
   "cell_type": "code",
   "execution_count": 56,
   "id": "9ebdb320",
   "metadata": {},
   "outputs": [
    {
     "data": {
      "text/plain": [
       "array(['hapyy', 'neutral', 'sad'], dtype='<U10')"
      ]
     },
     "execution_count": 56,
     "metadata": {},
     "output_type": "execute_result"
    }
   ],
   "source": [
    "np.unique(mood)"
   ]
  },
  {
   "cell_type": "code",
   "execution_count": 57,
   "id": "1741c796",
   "metadata": {},
   "outputs": [
    {
     "data": {
      "text/plain": [
       "(array(['hapyy', 'neutral', 'sad'], dtype='<U10'),\n",
       " array([12,  9,  5], dtype=int64))"
      ]
     },
     "execution_count": 57,
     "metadata": {},
     "output_type": "execute_result"
    }
   ],
   "source": [
    "np.unique(mood,return_counts=True)"
   ]
  },
  {
   "cell_type": "code",
   "execution_count": 79,
   "id": "8de0cfd1",
   "metadata": {},
   "outputs": [
    {
     "data": {
      "text/plain": [
       "array([False, False,  True, False,  True,  True, False, False, False,\n",
       "        True,  True,  True,  True, False, False, False,  True,  True,\n",
       "       False, False,  True,  True,  True, False, False, False])"
      ]
     },
     "execution_count": 79,
     "metadata": {},
     "output_type": "execute_result"
    }
   ],
   "source": [
    "mood == 'hapyy'"
   ]
  },
  {
   "cell_type": "code",
   "execution_count": 80,
   "id": "f6878c2f",
   "metadata": {},
   "outputs": [
    {
     "data": {
      "text/plain": [
       "array(['hapyy', 'hapyy', 'hapyy', 'hapyy', 'hapyy', 'hapyy', 'hapyy',\n",
       "       'hapyy', 'hapyy', 'hapyy', 'hapyy', 'hapyy'], dtype='<U10')"
      ]
     },
     "execution_count": 80,
     "metadata": {},
     "output_type": "execute_result"
    }
   ],
   "source": [
    "mood[mood == 'hapyy']"
   ]
  },
  {
   "cell_type": "code",
   "execution_count": 81,
   "id": "ad2a1779",
   "metadata": {},
   "outputs": [
    {
     "data": {
      "text/plain": [
       "array([9874, 8538, 9875, 9073, 9690, 9146, 9752, 8616, 9131, 8569, 9337,\n",
       "       8475])"
      ]
     },
     "execution_count": 81,
     "metadata": {},
     "output_type": "execute_result"
    }
   ],
   "source": [
    "step_count[mood == 'hapyy']"
   ]
  },
  {
   "cell_type": "code",
   "execution_count": 82,
   "id": "f5eb3148",
   "metadata": {},
   "outputs": [
    {
     "data": {
      "text/plain": [
       "9173.0"
      ]
     },
     "execution_count": 82,
     "metadata": {},
     "output_type": "execute_result"
    }
   ],
   "source": [
    "np.mean(step_count[mood == 'hapyy'])"
   ]
  },
  {
   "cell_type": "code",
   "execution_count": 83,
   "id": "e11bcc23",
   "metadata": {},
   "outputs": [
    {
     "data": {
      "text/plain": [
       "6470.777777777777"
      ]
     },
     "execution_count": 83,
     "metadata": {},
     "output_type": "execute_result"
    }
   ],
   "source": [
    "np.mean(step_count[mood == 'neutral'])"
   ]
  },
  {
   "cell_type": "code",
   "execution_count": 84,
   "id": "c53d3955",
   "metadata": {},
   "outputs": [
    {
     "data": {
      "text/plain": [
       "4528.6"
      ]
     },
     "execution_count": 84,
     "metadata": {},
     "output_type": "execute_result"
    }
   ],
   "source": [
    "np.mean(step_count[mood == 'sad'])"
   ]
  },
  {
   "cell_type": "code",
   "execution_count": null,
   "id": "2c3e16e7",
   "metadata": {},
   "outputs": [],
   "source": []
  },
  {
   "cell_type": "code",
   "execution_count": null,
   "id": "40a7d4eb",
   "metadata": {},
   "outputs": [],
   "source": []
  },
  {
   "cell_type": "markdown",
   "id": "23446c95",
   "metadata": {},
   "source": [
    "# working with images"
   ]
  },
  {
   "cell_type": "code",
   "execution_count": 85,
   "id": "a5c8000c",
   "metadata": {},
   "outputs": [],
   "source": [
    "import matplotlib.pyplot as plt\n"
   ]
  },
  {
   "cell_type": "code",
   "execution_count": 87,
   "id": "5b1b78e8",
   "metadata": {},
   "outputs": [],
   "source": [
    "img = plt.imread('one.jpg')"
   ]
  },
  {
   "cell_type": "code",
   "execution_count": 88,
   "id": "55eafbe9",
   "metadata": {},
   "outputs": [
    {
     "name": "stdout",
     "output_type": "stream",
     "text": [
      "<class 'numpy.ndarray'>\n"
     ]
    }
   ],
   "source": [
    "print(type(img))"
   ]
  },
  {
   "cell_type": "code",
   "execution_count": 89,
   "id": "8fb7f8a8",
   "metadata": {},
   "outputs": [
    {
     "data": {
      "text/plain": [
       "3"
      ]
     },
     "execution_count": 89,
     "metadata": {},
     "output_type": "execute_result"
    }
   ],
   "source": [
    "img.ndim"
   ]
  },
  {
   "cell_type": "code",
   "execution_count": 90,
   "id": "39bf8c27",
   "metadata": {},
   "outputs": [
    {
     "data": {
      "text/plain": [
       "(130, 387, 4)"
      ]
     },
     "execution_count": 90,
     "metadata": {},
     "output_type": "execute_result"
    }
   ],
   "source": [
    "img.shape"
   ]
  },
  {
   "cell_type": "code",
   "execution_count": 91,
   "id": "2bcbb9a0",
   "metadata": {},
   "outputs": [
    {
     "data": {
      "text/plain": [
       "201240"
      ]
     },
     "execution_count": 91,
     "metadata": {},
     "output_type": "execute_result"
    }
   ],
   "source": [
    "img.size"
   ]
  },
  {
   "cell_type": "code",
   "execution_count": 93,
   "id": "f671d82d",
   "metadata": {},
   "outputs": [
    {
     "data": {
      "text/plain": [
       "<matplotlib.image.AxesImage at 0x15f859fd7c0>"
      ]
     },
     "execution_count": 93,
     "metadata": {},
     "output_type": "execute_result"
    },
    {
     "data": {
      "image/png": "[encoded data removed]",
      "text/plain": [
       "<Figure size 640x480 with 1 Axes>"
      ]
     },
     "metadata": {},
     "output_type": "display_data"
    }
   ],
   "source": [
    "plt.imshow(img)"
   ]
  },
  {
   "cell_type": "code",
   "execution_count": 96,
   "id": "56c8dd6e",
   "metadata": {},
   "outputs": [
    {
     "data": {
      "text/plain": [
       "<matplotlib.image.AxesImage at 0x15f859f8610>"
      ]
     },
     "execution_count": 96,
     "metadata": {},
     "output_type": "execute_result"
    },
    {
     "data": {
      "image/png": "[encoded data removed]",
      "text/plain": [
       "<Figure size 640x480 with 1 Axes>"
      ]
     },
     "metadata": {},
     "output_type": "display_data"
    }
   ],
   "source": [
    "plt.imshow(np.transpose(img,(1,0,2)))"
   ]
  },
  {
   "cell_type": "code",
   "execution_count": 99,
   "id": "e749dfae",
   "metadata": {},
   "outputs": [
    {
     "data": {
      "text/plain": [
       "<matplotlib.image.AxesImage at 0x15f86b551c0>"
      ]
     },
     "execution_count": 99,
     "metadata": {},
     "output_type": "execute_result"
    },
    {
     "data": {
      "image/png": "[encoded data removed]",
      "text/plain": [
       "<Figure size 640x480 with 1 Axes>"
      ]
     },
     "metadata": {},
     "output_type": "display_data"
    }
   ],
   "source": [
    "plt.imshow(img[:,120:180,:])"
   ]
  },
  {
   "cell_type": "code",
   "execution_count": null,
   "id": "6304deeb",
   "metadata": {},
   "outputs": [],
   "source": []
  }
 ],
 "metadata": {
  "kernelspec": {
   "display_name": "Python 3 (ipykernel)",
   "language": "python",
   "name": "python3"
  },
  "language_info": {
   "codemirror_mode": {
    "name": "ipython",
    "version": 3
   },
   "file_extension": ".py",
   "mimetype": "text/x-python",
   "name": "python",
   "nbconvert_exporter": "python",
   "pygments_lexer": "ipython3",
   "version": "3.9.13"
  }
 },
 "nbformat": 4,
 "nbformat_minor": 5
}
